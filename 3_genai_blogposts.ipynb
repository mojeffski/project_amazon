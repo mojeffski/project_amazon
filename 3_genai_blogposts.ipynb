{
 "cells": [
  {
   "cell_type": "markdown",
   "metadata": {},
   "source": [
    "### 3. GenAi-task"
   ]
  },
  {
   "cell_type": "code",
   "execution_count": 33,
   "metadata": {},
   "outputs": [],
   "source": [
    "import pandas as pd\n",
    "import os\n",
    "import random\n",
    "from dotenv import load_dotenv\n",
    "\n",
    "from huggingface_hub import login"
   ]
  },
  {
   "cell_type": "code",
   "execution_count": 34,
   "metadata": {},
   "outputs": [
    {
     "data": {
      "application/vnd.jupyter.widget-view+json": {
       "model_id": "e9a86bea9a83414a8e99848ad32d7bd3",
       "version_major": 2,
       "version_minor": 0
      },
      "text/plain": [
       "VBox(children=(HTML(value='<center> <img\\nsrc=https://huggingface.co/front/assets/huggingface_logo-noborder.sv…"
      ]
     },
     "metadata": {},
     "output_type": "display_data"
    }
   ],
   "source": [
    "# Load environment variables from the .env file\n",
    "load_dotenv()\n",
    "\n",
    "# Access the Hugging Face token\n",
    "hf_token = os.getenv(\"HF_TOKEN\")\n",
    "\n",
    "# Use the token to authenticate with Hugging Face\n",
    "login(token=hf_token)"
   ]
  },
  {
   "cell_type": "code",
   "execution_count": 35,
   "metadata": {},
   "outputs": [],
   "source": [
    "project_path = 'dataset/interim/cleaned_with_sentiment_numeric.csv'\n",
    "categories_path = 'dataset/interim/amazon_review_categories.csv'"
   ]
  },
  {
   "cell_type": "markdown",
   "metadata": {},
   "source": []
  },
  {
   "cell_type": "code",
   "execution_count": 36,
   "metadata": {},
   "outputs": [
    {
     "name": "stderr",
     "output_type": "stream",
     "text": [
      "/var/folders/qk/10jspwn51hb5gk7bfj_xq96h0000gn/T/ipykernel_11138/905003903.py:1: DtypeWarning: Columns (1,10) have mixed types. Specify dtype option on import or set low_memory=False.\n",
      "  df = pd.read_csv(project_path)\n"
     ]
    }
   ],
   "source": [
    "df = pd.read_csv(project_path)"
   ]
  },
  {
   "cell_type": "code",
   "execution_count": 37,
   "metadata": {},
   "outputs": [],
   "source": [
    "df_categories = pd.read_csv(categories_path)"
   ]
  },
  {
   "cell_type": "code",
   "execution_count": 38,
   "metadata": {},
   "outputs": [
    {
     "data": {
      "text/html": [
       "<div>\n",
       "<style scoped>\n",
       "    .dataframe tbody tr th:only-of-type {\n",
       "        vertical-align: middle;\n",
       "    }\n",
       "\n",
       "    .dataframe tbody tr th {\n",
       "        vertical-align: top;\n",
       "    }\n",
       "\n",
       "    .dataframe thead th {\n",
       "        text-align: right;\n",
       "    }\n",
       "</style>\n",
       "<table border=\"1\" class=\"dataframe\">\n",
       "  <thead>\n",
       "    <tr style=\"text-align: right;\">\n",
       "      <th></th>\n",
       "      <th>category</th>\n",
       "      <th>dominant_topic</th>\n",
       "      <th>label</th>\n",
       "    </tr>\n",
       "  </thead>\n",
       "  <tbody>\n",
       "    <tr>\n",
       "      <th>0</th>\n",
       "      <td>Fire Tablets,Tablets,Computers &amp; Tablets,All T...</td>\n",
       "      <td>2</td>\n",
       "      <td>tablets</td>\n",
       "    </tr>\n",
       "    <tr>\n",
       "      <th>1</th>\n",
       "      <td>Stereos,Remote Controls,Amazon Echo,Audio Dock...</td>\n",
       "      <td>3</td>\n",
       "      <td>home</td>\n",
       "    </tr>\n",
       "    <tr>\n",
       "      <th>2</th>\n",
       "      <td>Back To College,College Electronics,College Tv...</td>\n",
       "      <td>4</td>\n",
       "      <td>Topic 4</td>\n",
       "    </tr>\n",
       "    <tr>\n",
       "      <th>3</th>\n",
       "      <td>Walmart for Business,Office Electronics,Tablet...</td>\n",
       "      <td>2</td>\n",
       "      <td>tablets</td>\n",
       "    </tr>\n",
       "    <tr>\n",
       "      <th>4</th>\n",
       "      <td>Electronics,iPad &amp; Tablets,All Tablets,Fire Ta...</td>\n",
       "      <td>2</td>\n",
       "      <td>tablets</td>\n",
       "    </tr>\n",
       "  </tbody>\n",
       "</table>\n",
       "</div>"
      ],
      "text/plain": [
       "                                            category  dominant_topic    label\n",
       "0  Fire Tablets,Tablets,Computers & Tablets,All T...               2  tablets\n",
       "1  Stereos,Remote Controls,Amazon Echo,Audio Dock...               3     home\n",
       "2  Back To College,College Electronics,College Tv...               4  Topic 4\n",
       "3  Walmart for Business,Office Electronics,Tablet...               2  tablets\n",
       "4  Electronics,iPad & Tablets,All Tablets,Fire Ta...               2  tablets"
      ]
     },
     "execution_count": 38,
     "metadata": {},
     "output_type": "execute_result"
    }
   ],
   "source": [
    "df_categories.head()"
   ]
  },
  {
   "cell_type": "code",
   "execution_count": 39,
   "metadata": {},
   "outputs": [],
   "source": [
    "#clean names:\n",
    "# Clean product names: remove special characters, extra commas, and strip whitespace\n",
    "df['name'] = df['name'].replace({r'\\r': ' ', r'\\n': ' ', ',,': ','}, regex=True).str.strip()\n",
    "\n",
    "# Remove any remaining multiple spaces\n",
    "df['name'] = df['name'].replace(r'\\s+', ' ', regex=True)"
   ]
  },
  {
   "cell_type": "code",
   "execution_count": 40,
   "metadata": {},
   "outputs": [],
   "source": [
    "df['name_clean'] = df['name'].str.split(',').str[0]"
   ]
  },
  {
   "cell_type": "code",
   "execution_count": 41,
   "metadata": {},
   "outputs": [],
   "source": [
    "df_all = pd.merge(df,df_categories[['category','label']],how='left',left_on='categories',right_on='category')"
   ]
  },
  {
   "cell_type": "code",
   "execution_count": 42,
   "metadata": {},
   "outputs": [],
   "source": [
    "grouped_reviews = df_all.groupby(['label','name_clean'])['reviews.text'].apply(list).reset_index()"
   ]
  },
  {
   "cell_type": "code",
   "execution_count": 43,
   "metadata": {},
   "outputs": [],
   "source": [
    "# Assume the column with lists is named 'list_column'\n",
    "# Create a new column 'list_length' that stores the number of items in each list\n",
    "grouped_reviews['nr_reviews'] = grouped_reviews['reviews.text'].apply(len)"
   ]
  },
  {
   "cell_type": "code",
   "execution_count": 44,
   "metadata": {},
   "outputs": [],
   "source": [
    "ratings_helper = pd.DataFrame(df_all.groupby('name_clean')['sentiment'].mean()).reset_index()"
   ]
  },
  {
   "cell_type": "code",
   "execution_count": 45,
   "metadata": {},
   "outputs": [],
   "source": [
    "df_final = pd.merge(grouped_reviews,ratings_helper,on='name_clean')"
   ]
  },
  {
   "cell_type": "code",
   "execution_count": 46,
   "metadata": {},
   "outputs": [],
   "source": [
    "df_final_filtered = df_final[df_final['nr_reviews']>=5]"
   ]
  },
  {
   "cell_type": "code",
   "execution_count": 47,
   "metadata": {},
   "outputs": [
    {
     "data": {
      "text/html": [
       "<div>\n",
       "<style scoped>\n",
       "    .dataframe tbody tr th:only-of-type {\n",
       "        vertical-align: middle;\n",
       "    }\n",
       "\n",
       "    .dataframe tbody tr th {\n",
       "        vertical-align: top;\n",
       "    }\n",
       "\n",
       "    .dataframe thead th {\n",
       "        text-align: right;\n",
       "    }\n",
       "</style>\n",
       "<table border=\"1\" class=\"dataframe\">\n",
       "  <thead>\n",
       "    <tr style=\"text-align: right;\">\n",
       "      <th></th>\n",
       "      <th>label</th>\n",
       "      <th>name_clean</th>\n",
       "      <th>reviews.text</th>\n",
       "      <th>nr_reviews</th>\n",
       "      <th>sentiment</th>\n",
       "    </tr>\n",
       "  </thead>\n",
       "  <tbody>\n",
       "    <tr>\n",
       "      <th>0</th>\n",
       "      <td>Topic 4</td>\n",
       "      <td>Brand New Amazon Kindle Fire 16gb 7 Ips Displa...</td>\n",
       "      <td>[Having received my Fire TV today, I've been t...</td>\n",
       "      <td>6</td>\n",
       "      <td>1.920039</td>\n",
       "    </tr>\n",
       "    <tr>\n",
       "      <th>1</th>\n",
       "      <td>Topic 4</td>\n",
       "      <td>Echo (White)</td>\n",
       "      <td>[Stay away from the certified refurbished Amaz...</td>\n",
       "      <td>8</td>\n",
       "      <td>1.941088</td>\n",
       "    </tr>\n",
       "  </tbody>\n",
       "</table>\n",
       "</div>"
      ],
      "text/plain": [
       "     label                                         name_clean  \\\n",
       "0  Topic 4  Brand New Amazon Kindle Fire 16gb 7 Ips Displa...   \n",
       "1  Topic 4                                       Echo (White)   \n",
       "\n",
       "                                        reviews.text  nr_reviews  sentiment  \n",
       "0  [Having received my Fire TV today, I've been t...           6   1.920039  \n",
       "1  [Stay away from the certified refurbished Amaz...           8   1.941088  "
      ]
     },
     "execution_count": 47,
     "metadata": {},
     "output_type": "execute_result"
    }
   ],
   "source": [
    "df_final_filtered.head(2)"
   ]
  },
  {
   "cell_type": "code",
   "execution_count": 48,
   "metadata": {},
   "outputs": [],
   "source": [
    "df_sorted = df_final_filtered.sort_values(by=['label', 'sentiment'], ascending=[True, False])\n",
    "\n",
    "# Group by 'category' and select the top 3 rows per group\n",
    "top_3_per_category = df_sorted.groupby('label').head(3)\n",
    "last_3_per_category = df_sorted.groupby('label').tail(3)"
   ]
  },
  {
   "cell_type": "code",
   "execution_count": 49,
   "metadata": {},
   "outputs": [
    {
     "name": "stderr",
     "output_type": "stream",
     "text": [
      "/var/folders/qk/10jspwn51hb5gk7bfj_xq96h0000gn/T/ipykernel_11138/1094808961.py:1: SettingWithCopyWarning: \n",
      "A value is trying to be set on a copy of a slice from a DataFrame.\n",
      "Try using .loc[row_indexer,col_indexer] = value instead\n",
      "\n",
      "See the caveats in the documentation: https://pandas.pydata.org/pandas-docs/stable/user_guide/indexing.html#returning-a-view-versus-a-copy\n",
      "  top_3_per_category['cat'] = '5 Star'\n",
      "/var/folders/qk/10jspwn51hb5gk7bfj_xq96h0000gn/T/ipykernel_11138/1094808961.py:2: SettingWithCopyWarning: \n",
      "A value is trying to be set on a copy of a slice from a DataFrame.\n",
      "Try using .loc[row_indexer,col_indexer] = value instead\n",
      "\n",
      "See the caveats in the documentation: https://pandas.pydata.org/pandas-docs/stable/user_guide/indexing.html#returning-a-view-versus-a-copy\n",
      "  last_3_per_category['cat'] = 'Fiasko'\n"
     ]
    }
   ],
   "source": [
    "top_3_per_category['cat'] = '5 Star'\n",
    "last_3_per_category['cat'] = 'Fiasko'\n",
    "\n",
    "top_categories = pd.concat([top_3_per_category,last_3_per_category])\n",
    "top_categories = top_categories.drop_duplicates(subset=['name_clean'])"
   ]
  },
  {
   "cell_type": "code",
   "execution_count": 50,
   "metadata": {},
   "outputs": [],
   "source": [
    "import random\n",
    "\n",
    "# Function to randomly select 9 reviews from the list of reviews\n",
    "def select_random_reviews(reviews_list):\n",
    "    # If there are fewer than 3 reviews, return them all\n",
    "    if len(reviews_list) <= 20:\n",
    "        return reviews_list\n",
    "    # Otherwise, return 3 random reviews\n",
    "    return random.sample(reviews_list, 20)"
   ]
  },
  {
   "cell_type": "code",
   "execution_count": 51,
   "metadata": {},
   "outputs": [],
   "source": [
    "top_categories['reviews.text'] = top_categories['reviews.text'].apply(select_random_reviews)"
   ]
  },
  {
   "cell_type": "code",
   "execution_count": 52,
   "metadata": {},
   "outputs": [
    {
     "name": "stdout",
     "output_type": "stream",
     "text": [
      "['Stay away from the certified refurbished Amazon Fire TV. I received two Certified Refurbished defective fire TVs. The first the screen looked half corrupted, see the pictures. The second Certified Refurbished Amazon fire tv I received would not boot up, it was stuck in an infinite loop where I would only see the amazon logo for 10 seconds then it would boot up again.If anything, Amazon needs to re-visit its refurbishment process and quality control of the refurbished products they let get in consumer hands.Update 11/28/16: I purchased a new Fire TV during the BF sale and I have had no issues so far :).', \"I seriously wonder why it took me to get FireTV for so long. I originally had a Roku XS and then I stupidly bought a Roku 4. Both devices were all right but neither could handle 5.1 audio from Netflix on my Vizio sound bar (essentially your device must be cable of handling Dolby Digital Plus and nothing less using Roku). I finally decided to give FireTV a try and I'm amazed. Not only does it convert DD+ to DD on Netflix and HBO Go, I can install XBMC (Kodi) on it! I wish I knew about this before I bought my Roku 4 and HTPC. I now literally have no use for my HTPC anymore... FireTV can handle EVERYTHING now and all with DD and DTS 5.1 audio. Even better, I have a ton of smart devices and 3 Echos... I can now control all of these devices directly from the remote. This is seriously one of the best purchases I have made in the past year.\", 'Love it, had the stick and it was kinda slow navigating. This one is much faster. Was going to use this and cancel cable. When I told my cable company I wanted to cancel and I was just going to stream everything they cut my bundle cost by 100. I kept cable but I also still use my firetv alot.', \"This box is wonderful, meets my expectations plus some. I gave up cable and tried it. I don't watch a lot of movies but this box comes with a lot of selections in my opinion more than basic cable, and if you have prime even more selections, theres a lot of free shows just download the apps for them.\", \"I bought this thinking since we'd bought several other refurbished things that worked, that it would be okay. The box never booted properly so the only thing we could stare at was the Amazon logo and the words Unknown Boot in the corner. Customer Service tried to help with the box but we couldn't get it to trouble shoot. Sending this box back.\", \"Certified garbage! Lesson learned about paying attention to reviews. Fire TV box and remote was packaged like new, even included new batteries. After plugging it in it would only show Amazon logo and 'unknown boot' on screen. Cycled power several times and even tried to reset using remote buttons, no dice. I read all the negative reviews before I purchased this, I chose to take the chance so I'm angry with myself, but very disappointed with Amazon for even suggesting this is refurbished, let alone certified, as if that means something.\", \"I bought this after being an avid Apple fan for the last 10 years. I had old style two Apple TV's and even bought a new Apple TV to help with me cutting the cord to DirectTV after 11 years. I switch to using the Apple TV with the DirecTV Now streaming service. After the Apple TV would no longer let friends or family airplay to it because of new updates or let me load any third party apps I knew it was time to switch. It was a great switch to the Fire TV and I have not looked back. I have been able to load numerous apps that are not available on the Apple TV such as Showbox and Kodi. My biggest complaint was the Fire TV remote was not able to control the volume on my sound bar like the Apple TV remote and was not able to turn my TV or sound bar on or off. The Sideclick remote was exactly what I needed. I was able to program the remote to control power and sound level, along with change the input on the TV. I would highly recommend using the Fire TV.Pros:Works extremely wellAllows 3rd party app installationMuch cheaper than Apple TVAllows use of amazon music which Apple TV did notCons:Home page is not at visually pleasing as the Apple TVRemote does not have volume controlsRemote is not touch sensitive and has a very loud *click* noise when pushing buttons.\", 'I bought this thing refurbished. I find that I have to unplug / plug back in the HDMI cable on a regular basis when switching inputs on the TV. Not sure if it is the Amazon Fire box itself or if it is the TV (Not likely).Otherwise it is a good device. I bought it for the ability to hard wire my Ethernet connection to my gigabit switch and for 4K capabilities which it does do. Having the Alexa app is handy but her features can be severely handicapped.I probably should have just bought it new..... usually refurbished devices work well as they are tested before resale and it was probably tough to catch that the HDMI port on these might be finicky. I may have to switch it out.']\n",
      "[\"Having received my Fire TV today, I've been trying it out for the past couple of hours.Setup was a no brainer. It required an update immediately so it did take about 15 minutes to have it in action but the process was very simple.The image quality (movies and games) is excellent. I've tried several movies from Amazon Prime and they look and sound nearly Blu Ray quality as far as I can tell.Navigation is very straightforward and it's generally easy to find anything you're looking for. Installation of games and apps goes very smoothly and generally pretty quickly.The remote works very well. I haven't played with the voice search feature much yet, but when I have tried it, it worked well. The buttons on the remote are well thought out and I prefer it to the Apple TV remote.I only have one gripe. As far as I can tell, there's no way to limit the list of movies and tv shows to what is available for Amazon Prime members. This makes it very inconvenient to find things that are free to watch. There are some categories that are limited to Prime (Most Popular on Prime, For Kids on Prime) I want to be able to just see what's available for Prime or at least be able to see by category what's available for Prime. I'm sure this isn't an oversight. I suspect Amazon wants to force us to look at everything and be tempted to buy/rent things but if they really want to compete with Netflix, they'll understand that we pay for our Prime membership to be able to watch free movies conveniently. A workaround is to do your searching on the web and then search specifically on the device.Perhaps I just haven't found the way to search for Prime available content. I hope that's the case or I will really be disappointed.Read more\", \"I'm your typical middle-aged woman - I don't game, and I'm not super tech-savvy by any means....so take this review for what it is. The Fire TV was easy to install and I'm loving all the features, free movies, music and simple interface - this thing even has a screen saver that comes on when you're listening to music! We've always just had our Comcast cable service without DVR and occasionally used Comcast OnDemand to watch/rent movies - but I'll never watch from Comcast again. The voice recognition software is amazing and brought me to exactly what I was looking for every single time I searched. It's just so easy to find what you're looking for (unlike Comcast), and since I'm an Amazon Prime member most of what I want to view is free - oh and for the new release movies the cost to rent from Amazon is on average cheaper than Comcast OnDemand by a 1 or more. So happy with this purchase!\", \"An Amazon.com official commented on this review(What's this) The Amazon team saysJuly 30, 2014Hi Dallas, thank you for sharing your feedback. We wanted to let you know that we made it easier to find your favorite Prime content with the click of your remote. You can now browse many more Prime-only categories, including Top Prime TV, Top Prime Movies, Prime TV for Kids, Prime Movies for Kids, Prime TV by Genre, and Prime Movies by Genre.\", \"I am not a casual user of on-demand content and devices. Having tried smart tv's from 3 brands, smart dvd/bluray players, Apple TV, WDTV, HTPC, Chromecast and too many other competing products to mention--for streaming content, before this box you really had two options (for a simple to use box that doesn't require additional items or tweaking):First is Apple TV which is easy to use (interface) but Apple limits the content you can get greatly (including no Prime Streaming built in) and it lacks a lot in features as well and is slow. The reason for selecting Apple TV is if you have other apple products that unlock features (like Amazon's content).The second option you could consider was Roku--which really means a Roku 3 box since it is heads and tails better than past Roku boxes in terms of remote and speed. Now Roku stands out with the most content and the most features of any box with the Roku 3. It is for that reason you will see me address the Roku 3 so often in this review.I have added quick summaries of other options to make sure everyone knows about the other options out there.WDTV: Are great for streaming your own content but not very user friendly.Chromecast: Is very cheap at 35 but requires other items to use (no remote included!), is limited to 16 channels according to their own site with other content broadcast via Chrome's browser not at the same quality level. This does allow you to browse the internet on your tv and is amazing for the cost but is more of a niche market than FireTV/Roku/Apple TV. But if you can live with the short comings, it is worth a look at 1/3 the price of these devices.Smart TVs: Most of these are FINE for occasional use but not nearly as pleasant to use daily like separate boxes.Read more\", \"Having received my Fire TV today, I've been trying it out for the past couple of hours.br /br /Setup was a no brainer. It required an update immediately so it did take about 15 minutes to have it in action but the process was very simple.br /br /The image quality (movies and games) is excellent. I've tried several movies from Amazon Prime and they look and sound nearly Blu Ray quality as far as I can tell.br /br /Navigation is very straightforward and it's generally easy to find anything you're looking for. Installation of games and apps goes very smoothly and generally pretty quickly.br /br /The remote works very well. I haven't played with the voice search feature much yet, but when I have tried it, it worked well. The buttons on the remote are well thought out and I prefer it to the Apple TV remote.br /br /I only have one gripe. As far as I can tell, there's no way to limit the list of movies and tv shows to what is available for Amazon Prime members. This makes it very inconvenient to find things that are free to watch. There are some categories that are limited to Prime (Most Popular on Prime, For Kids on Prime) I want to be able to just see what's available for Prime or at least be able to see by category what's available for Prime. I'm sure this isn't an oversight. I suspect Amazon wants to force us to look at everything and be tempted to buy/rent things but if they really want to compete with Netflix, they'll understand that we pay for our Prime membership to be able to watch free movies conveniently. A workaround is to do your searching on the web and then search specifically on the device.br /br /Perhaps I just haven't found the way to search for Prime available content.Read more\", \"I am not a casual user of on-demand content and devices. Having tried smart tv's from 3 brands, smart dvd/bluray players, Apple TV, WDTV, HTPC, Chromecast and too many other competing products to mention--for streaming content, before this box you really had two options (for a simple to use box that doesn't require additional items or tweaking):br /br /First is Apple TV which is easy to use (interface) but Apple limits the content you can get greatly (including no Prime Streaming built in) and it lacks a lot in features as well and is slow. The reason for selecting Apple TV is if you have other apple products that unlock features (like Amazon's content).br /br /The second option you could consider was Roku--which really means a Roku 3 box since it is heads and tails better than past Roku boxes in terms of remote and speed. Now Roku stands out with the most content and the most features of any box with the Roku 3. It is for that reason you will see me address the Roku 3 so often in this review.br /br /I have added quick summaries of other options to make sure everyone knows about the other options out there.br /br /WDTV: Are great for streaming your own content but not very user friendly.br /br /Chromecast: Is very cheap at 35 but requires other items to use (no remote included!), is limited to 16 channels according to their own site with other content broadcast via Chrome's browser not at the same quality level. This does allow you to browse the internet on your tv and is amazing for the cost but is more of a niche market than FireTV/Roku/Apple TV. But if you can live with the short comings, it is worth a look at 1/3 the price of these devices.Read more\"]\n",
      "[\"My family really enjoys the Amazon Echo. We have it set up to automate our home and remind us of things that are in our schedules. We picked up the Echo and two of the Echo Dots. We love to play our music and control our television by just simply telling it to do so. Locate your phone with one of the skills. I purchased one for my mother so she can use My Buddy if she gets hurt and call for someone if she can't get to her phone. There is a lot of potential for development in home automation as well as the connected automobile.\", 'Got it for the sole purpose of controlling my home lighting. Works perfect!', 'Family is having fun using ECHO. We use it as an alarm, for time, music, weather and getting answers to some of our questions.', \"The sound is good, and it gets really loud. New features are always added, and it is compatible with a growing list of products. *The less awesome part: I've found that if I go to max volume, Alexa can't hear me even if I scream right next to her.\", 'Set up was easy. Alexa so far has been on target and extremely helpful.', 'Love the echo. Great for listening to music and quick information', 'What an amazing device. I can ask it questions about sports, weather, traffic, music ... it tells me jokes, provides me with interesting trivia, turns on my lights in the morning, turns them off at night, plays music and many other useful tricks. This will again revolutionize home functionality in our lives.']\n",
      "['Purchased the Echo as a bridal shower gift. My niece and her fianc are still learning about all it can do but already reported back to me that they love it. I was told it is the most favorite gift they received.', \"Initially I purchased this solely for the purchase of controlling Lutron lights. However, after being @ a friends house for a BBQ and watching them use this for music, I decided to give it a try to see if it could replace my Sonos.It can't, however, I've found that I'm much more likely to play Spotify through this using voice controls if I'm in and out of a room for a shorter period of time and not near a Sonos to hit play/too busy to pull the phone out for Sonos app. This thing has also become more powerful as more IoT devices and services integrate with Echo or IFTTT. There is a TREMENDOUS amount of potential... give it a try and spend at least a week getting to know Alexa. You won't be sorry.\", 'We love Alexa and our Echo. If we need an answer, all we have to do is ask Alexa.', \"I had been looking at the echo for awhile but wasn't an early adopter. As much as I geek out over products like this I wanted to wait till the skills library was a bit more tested and expanded. Well imagine my surprise when I got this as a gift! Absolutely love using my Echo/Alexa. Weather, music, shopping lists, and the constant things they are adding. Yes it has its moments when it can't understand something but I do tend to mumble at times. Don't expect it to be a search engine giving multile results to an inquiry but it's a great speaker, home assistant, kitchen helper with measurements, and it even controls my home temperature on my Honeywell thermostat. Next purchase...smart plugs so I can turn some items off and on with my voice. Love the interactivity and I haven't even scratched the surface yet on all Alexa has to offer. I have found the Love my Echo website to discover new things I haven't tried yet.\", 'The Amazon Echo has very good voice recognition. It works just as advertised and is quick with the responses. I was glad to see it at best buy so I could touch it and try it before I bought it. The setup was easy and quick.', \"This thing does so many things it's incredible. Time saver, information finder , and even a family entertainer!\", 'We love this product, and are having so much fun with it. I can make a shopping list with it, get news, weather forecast , play our favorite music and so many other things that I have yet to discover.', 'Very versatile device that is constantly updated by Amazon. Price is very fair for this product.', 'Welcome to our home Alexa! She makes a great addition to our home. I would highly recommend this device.']\n",
      "['I have been using this for awhile and it definitely meets my expectations. It sounds great. It works all my lights.', 'Great sales support. Called store beforehand and held product for pick up the same day.', \"Still learning all the things it can do but solo it is a nice quick answer system and music player. I now have mine hooked to HUE lights, Honeywell Thermostat, and a Belkin outlet with a heater. Nice to have Alexa turn on my kitchen lights when I'm running in groceries.\", 'I got this as as gift and I am so happy with it. It is like having music on demand and so much more. Thanks honey', \"After all the great reviews I thought it would be wonderful to use as a helping hand running a business solo. However, for this case it isn't very helpful. Unlike Cortana or Siri, Alexa only works with commands based on the petty apps that can generate the commands. It can't use your whole phone or computer to pull up apps or anything special. Even the simple stuff like weather was a hassle to try to change location and simple data like calendar, and anything you want to learn just refers back to the Alexa app which by the way is absolutely awful. You can't use your own calendar alone, everything has to be linked to one of the several lackluster apps that have been created. I think this will be great in the future but as far as offices go, it seems an unnecessary false luxury. At home with smart appliances may be its only use. (Recommended for home entertainment use only).\", 'something that will get very useful as time goes by, well made, and works great!!!!!!!', 'Not yet sure all it can do but love that I can just ask for the weather or ask it to play music by a particular artist. Fun to work with.', 'Outstanding product. Will buy another one in the future.', 'Have not received mine but have spent many hours with my friends it really is amazing great fun.', \"I bought is item as a family Christmas gift. It gave it to them early. My children absolutely love it and it was perfect for my wife. I've shared my experience with a few friends and they've bought on.\", \"I am building out a relatively large, advanced smart home and it was only natural to integrate voice assistant features to the mix. I use the Echo to control Phillips Hus lights and even my Schlage lock. Every morning I wake up and get news and weather from Alexa as I'm getting ready. What a wonderful product.\", \"I actually didn't think I'll be using the Amazon Echo as much as I do when I decided to buy it. It's definitely become a something that's called on for everyday purposes from playing music to checking traffic. I don't really have any complaints except for that the Echo doesn't hear me use its wake word so I feel like I'm screaming at it before it takes action. Overall, very satisfied.\", 'Great for adults and kids!!! No need to be tech savvy with the Echo. Works Great and easy to use!!!!', 'Alexa is the greatest product ever I use it around the house all of the time', 'Purchased this on cyber Monday and it was worth it. Alexa is my new best friend.', 'Was given as a gift and Husband extremely pleased with the purchase.', \"I love my Alexa! Much simpler to set up than I expected, she was connected to my WiFi in under 3 minutes. She's yet failed to understand my request. Our next step is to get Ethernet-controlled outlets for lights, etc., so that Alexa can control those for us.\", 'This is such a neat gadget.my daughter absolutely loves it!', 'BEST thing that ive ever owned. my review is a comment i left in response to someones unfair, inaccurate 1 star review:sorry to hear that YOUR echo is useless. Mine on the other hand is awesome. just today alone, i used it as an alarm clock to wake up, turn on the lights and music to wake the kids for school, check how much gas was in my tank without going to the car, re-order toilet paper and laundry detergent for a price cheaper than the grocery store, hear the news headlines while drinking the coffee \"alexa\" made me when she turned on the coffee pot, roll a 20 sided die for a dungeons and dragons game with my one kid who managed to avoid summer school, pipe music into my home all day, order pizza for dinner, and get help with the kids algebra homework. After dinner we played jeopardy on it after the show aired, and used it to dim the lights inside, and turn on the porch lights outside when it got dark and i couldnt get up without disturbing my sleeping baby on my chest, who incidentaly fell asleep to the echo playing soothing music....she can also tell you facts about EVERYTHING you probably dont know, including starwars which pleases the kids, tells jokes, plays rock-paper-scissors, AND can call you an Uber. Have you tried activating her ever increasing fuctions via the alexa app? Oh, by the way, her speakers sound better than the bose speakers in my car so...yeah', 'Speedy delivery. Item arrived as promised. Great gift for someone who has everything and wants a little fun']\n",
      "[\"I love my Kindle Voyage, however it does not have a speaker for audio books. and changes settings ie. remaining time/pages left in book on it's own.\", 'highly recommend this product to all book lovers...', 'I enjoy my kindle and would recommend to anyone. There is a good choice of books and reading material also.', 'this was a choice between the Oasis and the Voyage. i made the right choice', \"Went back and forth between this and the Oasis but in the end just couldn't justify the added cost. So far I'm happy with this model.\"]\n",
      "[\"This is the first e-reader I've gotten and I LOVE it! In general, kindles are awesome because there is a bunch of free material you can download on amazon that you can just carry around with you. The page turning function is a little weird to get used to but you can also swipe if you don't like the sensors on the side. When you turn off the kindle there is a screen saver that is typically some kind of ad, which is kind of annoying, but it's not really worth it to pay to have the ads taken off. Again, just something to get used to. It's really easy to navigate, you can even highlight and take notes. I don't really now too much about other e-readers or kindles but I'm really happy I bought this and I'd recommend it to anyone!\", \"I previously had a first edition paper white and finally pulled the trigger on a voyage. I'm so glad I did, the resolution is great and it seems easier to read. I also like that the screen is completely flat. I don't really use the page turn buttons like I thought i would but it is nice to have the option.\", 'I have several generations of Kindle readers, and this is far and away the best. It is relatively expensive, but the features are worth it.', 'Works great, looks great, readable in bright sun...', 'bought this e-reader as a gift for my wife and she loves it', 'Bought two for gifts. A huge hit!! They are readers and love not having to lug books.', 'I also have a Nook Glow but I miss having buttons. The \"squeeze the edge\" for a page turn is what sold me.', \"I was a little bit hesitant to get the Voyage over the Paperwhite and after holding the two I knew I wanted the Voyage. This device has been perfect! (Advice: Ask Amazon to remove the ads if you're a Prime member!)\"]\n",
      "['The text is sharp and paper like in well lit conditions. When using the backlight in dark conditions it becomes less paper like but is quiet useful if you wanna ditch clip on lights. Can set on automatic brightness level or manually set. Slim and lightweight when not using a case which I appreciate most about this kindle. Makes for easy holding and carrying/packing. Practically any book at the palm of my hand on this one device. I also like that it has page press which is outer press buttons for page turning. One con is its not all that speedy and responsive when going though the store, though it is the fastest kindle yet. I would NOT say it is 80 to 100 dollars well spent over the paperweight. In fact i would recommend the paper weight when its come down to price. Im just someone who wants the best of the best so I bought 2 of these. One for my love as a gift, then I went and bought myself one. It was a well recieved gift and I aquired major browny points. We give them 4 thumbs up. We can read together in bed, in the woods, on the road or wherever we like. This is the voyager after all and it is intended to be with you wherever you go. I would give it 4.5 if that was an option.', \"I love my kindle voyage. It is very little weight and I love the page press that it has, don't even have to move your hand to turn the page. You can read it in the bright sun and in the dark which no over brand of tablets you can do that with.\", 'Love my Kindle! I take it with me everywhere! I would recommend this to all my friends and family!', 'Kindle voyage is the costliest of the kindle range but its worth it due to light weight and adaptive backlight. Enjoying it so far.', 'Hands down this is the best ereader that you can buy...', \"When you compare the Kindle Voyage 6's Screen to the other model. The Screen was brighter for reading\"]\n",
      "[\"I initially had trouble deciding between the paperwhite and the voyage because reviews more or less said the same thing: the paperwhite is great, but if you have spending money, go for the voyage.Fortunately, I had friends who owned each, so I ended up buying the paperwhite on this basis: both models now have 300 ppi, so the 80 dollar jump turns out pricey the voyage's page press isn't always sensitive, and if you are fine with a specific setting, you don't need auto light adjustment).It's been a week and I am loving my paperwhite, no regrets! The touch screen is receptive and easy to use, and I keep the light at a specific setting regardless of the time of day. (In any case, it's not hard to change the setting either, as you'll only be changing the light level at a certain time of day, not every now and then while reading).Also glad that I went for the international shipping option with Amazon. Extra expense, but delivery was on time, with tracking, and I didnt need to worry about customs, which I may have if I used a third party shipping service.\", \"Allow me to preface this with a little history. I am (was) a casual reader who owned a Nook Simple Touch from 2011. I've read the Harry Potter series, Girl with the Dragon Tattoo series, 1984, Brave New World, and a few other key titles. Fair to say my Nook did not get as much use as many others may have gotten from theirs.Fast forward to today. I have had a full week with my new Kindle Paperwhite and I have to admit, I'm in love. Not just with the Kindle, but with reading all over again! Now let me relate this review, love, and reading all back to the Kindle. The investment of 139.00 is in the experience you will receive when you buy a Kindle. You are not simply paying for a screen there is an entire experience included in buying from Amazon.I have been reading The Hunger Games trilogy and shall be moving onto the Divergent series soon after. Here is the thing with the Nook that hindered me for the past 4 years: I was never inspired to pick it up, get it into my hands, and just dive in. There was never that feeling of oh man, reading on this thing is so awesome. However, with my Paperwhite, I now have that feeling! That desire is back and I simply adore my Kindle. If you are considering purchasing one, stop thinking about it simply go for it. After a full week, 3 downloaded books, and a ton of reading, I still have half of my battery left as well.Make yourself happy. Inspire the reader inside of you.\", \"I am enjoying it so far. Great for reading. Had the original Fire since 2012. The Fire used to make my eyes hurt if I read too long. Haven't experienced that with the Paperwhite yet.\", 'I bought one of the first Paperwhites and have been very pleased with it its been a constant companion and I suppose Ive read, on average, a book every three days for the past however many years on it. I wouldnt give it up youd have to pry it from my cold dead fingers.For sundry logistical reasons, Ive also made good use of Amazons Kindle app on my iPhone. No Paperwhite screen, naturally, and all the cool usability that delivers, but it works well and has its own attractions as a companion to the Kindle.Of course, there are aspects of the Paperwhite which I would like to critique. Ah you knew that was coming somewhere, didnt you.As a member of BookBub, I get a daily list of alerts and book deals in my chosen genres. I take on many of them, however, Ive found that, even with the best will in the world, I cant keep up. Some days it seems that for every book I read, Ive bought two. Theres just so much good stuff out there! The accumulative effect of this is that the number of books actually on my Paperwhite has been creeping ever upward for some time. Its now at about 400.With this in mind, Ive noticed that while page-turning has remained exactly the same, just about every other action on the Kindle has become positively glacial. Not just very slow, but so slow you think its malfunctioning. The general consensus appears to be that its to be expected once one has that many books downloaded onto a Kindle, it will begin to behave in a flakey manner. This drives me mad. Amazon states it can hold thousands of books. I believe them. But I figure I would need a second Paperwhite to read while Im waiting for actions to complete on the first one.Read more', \"I have to say upfront - I don't like coroporate, hermetically closed stuff like anything by Apple or in this case, Amazon. I like having devices on which I can put anything I want and use it. But...I was a fairly happy user of a Nook Touch for several years, but couldn't use all its functionalities since I live in Serbia. Then I lost the Nook and since no other devices can actually be fully used in Serbia (buying books with them, using their online capabilities) except the Kindle, and since no one except Amazon ships to Serbia, and since I've actually been a happy Amazon customer since 2005 over friends' accounts and since 2007 through my own, and since the Kindle definitely has the best technology - why not buy itSo I did. What I read in many reviews about the screen/light of the Paperwhite and similar devices was no problem with mine. The light disperses just fine, except a few black blotches (maybe you can see it in the picture) at the bottom of the screen, which are actually shadows of the black plastic casing and thus can't really be avoided. As you can see in the picture without the light - there are no blotches with light out.The Paperwhite's screen is just marvelous at 300 ppi, the touchscreen works just fine, the store works here in Serbia, and in these two days I've been using it, I'm a happy guy.I had to get the hang on how to make sideloaded books behave at least almost like Amazon books, but that's fine. That's the one thing I'd like to see Amazon do in some future upgrades: make the Kindle treat sideloaded books just like the ones bought from them directly, with sharing funcion (quotes and Goodreads) enabled and so on.The size is perfect, it sits very well in the hand, the light doesn't hurt the eyes in the dark (like the light on a tab does)... the packaging was fine, no problems there and what remains to be seen now is the battery life.So far, I can only recommend it.\", 'My previous kindle was a DX, this is my second kindle in years. Love the form factor and all but I do miss the physical buttons for page turning. There is a glitch in the software though. I use the English interface but occasionally I would like to translate words into traditional Chinese. However, it seems that the traditional Chinese characters cannot display correctly and become small boxes. The simplified Chinese characters can be displayed correctly though.', \"Just got mine right now. Looks the same as the previous generation except for the Kindle logo (it's black this time), feels a little heavier, the screen is a little warmer toned than the previous one, BUT the resolution is SO MUCH BETTER! The 300 ppi are definitely obvious and the new font is worth the money.Totally recommend it for a book lover!I'll give it 4 stars instead of 5 because I am used to a cooler screen, but I'm sure I'll get used to this one soon too :)\", \"As reviewed by the wife This is the perfect thing for a new mommy who loves to read books! As soon as I had my baby girl, I had to stop reading my novels because I had to give the baby my full attention. But how much time do I spend laying in bed, on my side, with the baby while she feeds Especially prior to 4 months when feeding took as long as 45 minutes! Not to mention cluster feeds during growth spurts! A book was out of the question because it's sooo tiring to hold up in side-lying-breastfeeding-position. My new Kindle was the solution! It's light, easy to disinfect (I use baby wipes on the case whenever I feel like it's not clean enough to go on the bed with the baby) and you don't need to keep a finger in the middle of the pages to keep it from closing - you know what I mean!And for some reason it's much easier to go through a book with a Kindle compared to an actual book. I never thought I'd be converted into the Kindle culture but here we are!\", \"My new Kindle Paperwhite came from the USA to a small town in Sweden in just five days. Payment of tax and customs handled by Amazon. Had not the UPS been so square (they think everyone sits at home all day) I had received it a day earlier.I am very pleased with the e-reader, easy on the eyes, and comfortable to hold in one hand. Even if I buy many books from Amazon I also want to read books in the ePub format. A positive surprise was how easy it is to convert ePub format to Amazon's own format. I use the program Calibre and then I just send the book as an attachment in an e-mail to my Kindle. Quick and easy!\", \"Had older model, that you could text to speech, this one hasn't. Liked the smaller size, but having to buy a different cover! Still getting used to shelf quite different from my 4 year old model.Paper white is nice reading.\", \"This is a review of the Kindle Paperwhite launched July 2015. Essentially. the same as the previous Kindle Paperwhite but with a fantastic upgraded (300 dpi) screen, more memory and storage it's a terrific reading device. This review aims to describe both this product, and compare it with the other Kindle devices available to help you choose the best one for you.Before I start, Ive noticed several complains about Kindle not supporting the ePub format used by Canadian public libraries. Dont be put off, theres a solution in the Frequently Asked Questions section below.This review is broken up into sections so you can skip the less interesting bits. If youre in a hurry Ive included a summary at the start, and a Frequently Asked Questions section at the end.Summary - What can you do with it-----------------------------------------* Read a book. It can store 1,000s of books - take an entire library away with you on holiday.* Buy a book. You can browse the Amazon kindle store, and buy books over a WIFI connection* Borrow a book. Using the Kindle Owners Library you can borrow one of 60,000 books (if you have Amazon Prime Membership)* Share your books. Using Amazon Family Library to link two Amazon accounts and four children and share your books with the entire family* Highlight a section. Using the touch screen, you can highlight a particulary interesting few lines. If several people highlight the same section, that's also indicated.* Record a bookmark. To come back to it later* Read a book on your Kindle, continue on your smartphone or tablet computer, and it will jump to your last known position* Look up a word, and record them in the vocabulary builder* Track a characters appearance throughout a book using the X Ray feature.* Read for weeks without needing to recharge - typically 4-6 weeks* Share you books (Multiple Kindles on the same account, or family sharing)* Access every book you've ever owned on the cloud - available for download within seconds over WIFI or 3G..What Devices are available--------------------------------As of July 2015, Amazon have the following Kindle devices on sale:-1. Kindle 6 (around CDN 79)2. Kindle Paperwhite 6th Generation (212 dpi - launched October 2013) - around CDN 1292. New Kindle Paperwhite 7th Gen (300 dpi - launched July 2015) - around CDN 139-2093. Kindle Voyger - around US 219-289 (Doesnt seem to be on sale in Amazon Canada)4. Kindle Fire - 6 or 7 colour tablet computers at around CDN 300-400So you're faced with a few devices, plus additional options. Which to buy Here's a quick summary in order of cost.*** The entry level Kindle ***An entry level black and white (e-ink) book reader, it has a 6 inch touch screen with enough storage to hold thousands of books, and a battery which should last around 4 weeks.A terrific device to read books, and a worthy contender. For the technically minded, it has a 1Ghz processor and 4Gb of memory with an E-ink display. Essentially this means it's (a) Black and White (b) Fantastic to read even in bright sunlight (c) Requires very little power - hence the battery lasts for weeks instead of hours.*** New Kindle Paperwhite ***Launched in 2015, this is really an upgrade adding a super-sharp display with 300 pixels per inch - the same as the top of the range Voyage. The high resolution screen does provide a crisp text which is pleasing to the eye, but battery life is reduced from 8 weeks of the original Paperwhite to 6 weeks - but still a very long time.Compared to the existing (2013) Paperwhite it also includes double the memory which means its faster and slicker than before, and a new Bookerly font plus better presentation of fonts on screen.If you have an existing Paperwhite its probably not worth upgrading. However, if you own a prior device, youll notice the huge leap in screen quality, contrast and performance.*** The Voyage ***Far more expensive that Paperwhite, this is thinner and 26g lighter. It has more of a quality feel with the screen flush with the e-reader body which makes it look more like a tablet, and keeps dirt from getting caught in the edges. The back has a soft touch plastic finish which feels lovely in the hand, and it has new Page Press buttons on the side to turn the pages. When the buttons are pressed theres a gentle vibration for feedback (nice touch). It has 4Gb of storage (same as the Paperwhite), and a similar battery which should last around 6 weeks on a single charge.Although it has the same sharp (300 dpi) screen as the Paperwhite, the backlight includes an ambient light sensor so it automatically adjusts to different lighting conditions. This means if you read it the dark it will automatically adjust the brightness so it doesnt look too bright. In addition, youll find when you switch off the room light your eyes naturally become accustomed to the darkness. To compensate, the Voyage automatically softens the light slightly. A lovely example of attention to detail in this premium device.*** Kindle Fire Tablet Computer ***The Kindle Fire range is a very different beast to the rest of the Kindle range. Similar to the Apple iPad mini, it has a high resolution screen, a fast processor and lots of memory with a colour screen and a much shorter battery life - hours rather than weeks. Although you can read books on a Fire using the Amazon Kindle App, youll find the Kindle with its sharp black and white screen far more like reading a physical book. Youll find it produces less eye strain, and whereas a tablet computer is better suited to surfing the web, watching videos and reading eMails, the Kindle is a dedicated book reader device.Unlike a Kindle, the Fire produces light at the blue end of the spectrum which means it may make it harder for you to sleep. The Paperwhite and Voyage also ave the advantage of a soft white back-light which is far more suited to reading in bed, and it wont for example, wake your partner if reading in the dark.Finally, unlike the rest of the Kindle range, the Fire is almost useless in bright sunlight so while its fine for everyday use, its less useful on holiday. The Kindle range of devices are perfect to take away on holiday as they can carry thousands of books, and are a pleasure to read even in bright sunlight.What other options do I have----------------------------------Having decided upon the model (Kindle, Paperwhite, Voyage or Fire), the next decision is around:-* Special Offers - ie. adverts* 3G or WIFI connectionPersonally I have no issue with adverts on a Kindle. They only appear on screen when the screen saver is on, and are not at all distracting.The 3G option is a more difficult question. This effectively means you can use your kindle to buy or download books over-the-air instead of at home or near a WIFI hotspot. Personally I went for the WIFI model as the saving is considerable, but its a personal choice. Of course if you wont have WIFI at home, then youll need the 3G option.One point worth mentioning however, is if you have a modern smartphone, you can always create a Personal Hotspot or local WIFI signal that your Kindle (or indeed any other WIFI device) can connect to. Got to Settings Personal Hotspot on your mobile to set one up, and you can connect your WIFI only Kindle while youre out and about.Conclusion-------------If you love books but your on a budget, the original Kindle with WIFI and special offers is a great option. Youll still be able to carry thousands of book around with you, but youll lose out on the soft white back-light and super crisp display of the Papwerwhite.The Kindle Paperwhite is your next best option and is a terrific device for reading with a superb 300 dpi super-sharp screen. Finally, theres the top of the range Voyage with the page press buttons and ambient light sensor which automatically adjusts the brightness.If youre in the market for a Tablet Computer then the Kindle Fire range is worth considering, but youll get a better book reading experience on the Kindle. Myself I have both a Paperwhite and an iPad Air 2. I was skeptical at first, but the Kindle is a perfect device for reading with one hand (on the train), and the back-light and long battery life a huge bonus.Frequently Asked Questions---------------------------------Q: What file format will a Kindle readA: Kindle Format 8 (AZW3), Kindle (AZW), TXT, PDF, unprotected MOBI, PRC natively in addition to HTML, DOC, DOCX, JPEG, GIF, PNG, BMP through conversionQ: What It doesnt support EPUB formatA: No - but you can convert your EPUB books using a freely available program called Calibre. Simple search for You Tube um0teoAR6zw and youll see a video explaining how to do this. Simples.Q: If I lose my Kindle, do I lose my books as wellA: No. All books are available on your Amazon account to download on a new device.Q: Can I save my place in the bookA: Yes. It will automatically save your place, and if you resume on other device it will prompt you to jump to that position.Q: I often need reading glasses - can I adjust the font sizeA: Yes. Theres a range of fonts, and sizes to suit all tastesQ: Can I share books with my partner or childrenA: Yes. You can now share your books using Amazon Family Library to link two Amazon accounts and four children and share your books with the entire familyQ. Can I use a Kindle to read in bedA. Yes. But only on the Paperwhite and Voyage models. Its a pleasure to read in the dark with a soft white light. For the base Kindle model youll need the light onQ. Are there any free books availableA. Yes! Over 40,000 classic titles are available for free (out of copyright), and they can be legally downloaded. If you have a Amazon Prime membership you can also borrow a book from the Kindle Owners Library which includes around 60,000 books.Q: How long does the battery lastA: Depending upon model, you should get between 4 and 6 weeks between charges on around 30 minutes of reading per day. Ive certainly found Ive gone for weeks without charging the deviceQ: How long does it take to chargeA: From absolutely flat, around 4 hoursQ: How many books will the Kindle holdA: Literally thousands. You can also download every book youve ever owned from your Amazon account - so the list is quite literally unlimited.Q: Do I need anything elseA: Youll need a smartphone charger or laptop with a USB socket as the Kindle range doesnt come with a charger (but the Fire does). Amazon also offer an additional charger to buy if you need it. Some people also buy a cover, but I think this is not really needed. It adds to the weight, and is not really needed. It will protect your Kindle from a drop however, and protect the screen if its left knocking around in a bag.\", \"I love my kindle! I got one for my fiance on his birthday, he loved it!!!!!!! so I decided to get one for myself as well and I am glad I did. It is very easy to read books in it. I LOVE the dictionary on this little device. Normally I just skip a word I don't know the meaning of and try to guess what it means in the context but with kindle, I just press and hold my finger on the word I don't know and translation pops up! so essentially, the meaning of a new word is at your finger tips! )If you love to read books, I highly recommend kindle.However, if you only read Manga or Comic books, if you are a fan of buying how to draw, how to sew books I do not recommend kindle for you. It is not easy to navigate trough pictures and slides.So if you are a fan of reading novels just buy it now!If you are a manga fan, just buy your manga books from bookstores.\", 'Vraiment bon petit appareil , lger et facile d emploiJ ai hte de m en servir sur les plages cet hiverBelle bibliothque de livres disponiblesBon achat en bref', 'Exactly what it is supposed to be. Works great and I love the built-in light. Perfect reader, and very quick delivery.', \"Trs heureux que les livres soient sur Icloud. Aprs m'tre fait voler, c'est bien de pouvoir retrouver tous mes livres avec toutes les notes que j'avais prises.\", \"Only 4 stars because I found it very confusing at first. I had a Kindle before found it very easy to find what I needed to do. The user guide didn't really answer my questions, but I persisted am getting used to it. I really love the backlit screen no buttons to push to change pages. At first I wasn't sure about the smaller screen, but didn't take long to get over that. I'm sure I'm just a creature of habit not very techy. All in all, the Kindle Paperwhite is great.\", \"Almost like reading a real book. Don't is crisp, sharp and easy to read. I've held out from buying a reader for years because I could never quite get past the fact it wasn't a book. With this new kindle I don't even notice, I am immediately immersed. Wildly better than I expected.\", \"I already had an original Kindle Paperwhite and loved it. Buying this in addition seemed like a bit of an indulgence but I am so pleased I made this move. I love the new font and the clarity of the screen. I love that the Kindle comes to life when I open the cover (I bought a new cover with the magnetic clasp). While there is nothing dramatic about the evolving of the Kindle there are enough changes and improvements for me to feel I have made a great purchase which I am happy with. I also have a bunch of books from my Amazon.co.uk site which I access on my 'old' Kindle (I couldn't work out how, if at all, I can move books from one Amazon jurisdiction to another) so this has proved a good purchase all round.\", 'Received my new kindle in perfect condition and I am very happy it is faster and a clearer it has a. bigger had drive at a good price and a fast delivery that you can count on you can not go wrongThank you']\n",
      "['Just love it. Easy to set up and use. Tons of information and jokes. Plays all my music and give spots scores.', \"So I was excited to get this when Best Buy started caring them. The thrill for was short lived. First week was fun to use it for music, weather, cooking, and jokes. But after that I lost interest. Attaching to my Hue lights and Nest were a longer process to make it work. I'd rather pull my phone out. Plus with a 2 story house it is useless if not on the same floor. Maybe I'll buy it again or a 2nd version when its released\", \"This is my new favorite device. While not perfect, it's a lot of un to use.One of the features I like the best is the timer functions. I can start a timer for various items, while cooking, and Alexa will remind me when the timer hits zero. The best part is that, through IFTT, I can trigger Alexa to call my phone, or send a notification, if I'm not in the same room as she is. I do the same for when I'm doing laundry. I no longer have to go back and check how much time is left on the washer and dryer. I can even have my Hue lights to blink when the timer has expired.Right now, I have Lutron, iDevices, and Hue Homekit devices in my house. Through the Skills for each of these companies, the Echo found all the devices, and I'm not able to control all of them using my voice. Really great device to own and play around with.\", 'I got this to basically experiment with. Straight out of the box, it\\'s really not that impressive. It\\'s a \"novelty\", however, as I checked out the skills available, lights started coming on - Literally! Echo\\'s ability to integrate with Home Automation is excellent! Having voice commands for turning on/off lights may seem like a novelty as well, however, there are endless options for the elderly, or disabled with this little assistant, and some customizing.', 'Good product that does the basics. Too bad you have to buy a specific light control or security system to make this useful. My Smart TV\\'s are connected to the internet, so why not control them too? But I was impressed when I asked \"Alexa, whats on TV for the Olympics tonight?\" and the response was Swimming at xx time, Gymnastics at yy time. Far more info than the TV guide on screen showing only a 4 hour block on NBC. It is the beginning of things to come.', \"This is great for a connected home. People who use this should buy it if they plan on making everything in their home wi-if enabled. Otherwise it's an expensive SIRI.\", 'Cool product. Amazon does a cool job with it. Great audio quality and like the Philips Hue integration.']\n",
      "['This was a gift from me to myself. I am very pleased with this purchase.', \"Love love it .works for me it's my best friend in my head.\", 'This is a great product! Our family loves the convenience of asking questions on the go!', 'This unit is just like a member of the family, it answers questions, plays my favorite music and gives me reminders!', \"When companies play nice with each other... the customers win. This product is fairly novel if you aren't completely bought in to the Amazon ecosystem. I would use it way more if they played nice with Apple services. I know it's a competitor, but if both companies goals are to build an awesome product for a customer, they should play nice.\", \"Incredibly awesome device. Signed up with Amazon music and I've been jamming nonstop.\", 'I really love the Echo. I actually bought it to listen to music but I use it for many other things.']\n",
      "['I like it.', \"A waste of money. You don't need this. Just plug your tablet into your computer and the charge lasts for a month.\", 'Works', \"Does what it is suppose to do - power adaptor / charger.Three stars because it's overpriced.\", 'Nice product. Works well.', 'Excellent Product!', 'Good product.', 'It works. Not much else to say.', 'Worked well as expected.', 'Christmas gift.', 'just what I ordered - works as expectd', 'It works, that is all that is necessary of it.', 'Very pleased', 'serves its purpose', 'Works just fine, but a bit on the expensive side!', 'good Quality', 'There is no problem charging my Kindle on the iMac, however when I travel I need a charger. It works Perfectly.', 'This is a fairly standard item for use with wall/standard US AC plugs. It is well designed and will meet your charging needs when connected to the required USB cable.', 'It does its job', \"It works like it's supposed to. Use it for charging my new Kindle.\"]\n",
      "['A nice size with many perks, like a crisp screen & fun vibrant colored outer shell. However the pop up ads are annoying.', 'I got this to replace the iPad for a child. I am so disappointed by the charge. It dies so quickly and the charger has to be wrapped around the tablet in order for it to charge. This was after 2 weeks of having the tablet. Low price but not worth the hassle and disappointment!', 'Good product with great value. Recommend this to all.', 'I really like the easy setup and the parental cobtrols.. its easy to download games and my daughter loves it', 'I like this tablet a lot. The size is good. The screen is good. It functions well. This is my second fire tablet. I really like that it automatically installs (syncs) apps from my first tablet at start up. Very convenient. The price was very good. Ordered on line with same day pick up at the local best buy. SWEET!', 'Great tablet, only thing I would add would be a camera. My daughter loves it!']\n"
     ]
    }
   ],
   "source": [
    "for f in top_categories['reviews.text']:\n",
    "    print(f)"
   ]
  },
  {
   "cell_type": "markdown",
   "metadata": {},
   "source": [
    "## GenAi\n"
   ]
  },
  {
   "cell_type": "markdown",
   "metadata": {},
   "source": [
    "#### SUMMARIZATION"
   ]
  },
  {
   "cell_type": "code",
   "execution_count": 53,
   "metadata": {},
   "outputs": [],
   "source": [
    "\n",
    "# Function to randomly select  reviews and generate a summary\n",
    "def summarize_reviews(reviews_list, num_reviews=15):\n",
    "    # If there are fewer reviews than num_reviews, use all reviews\n",
    "    if len(reviews_list) < num_reviews:\n",
    "        selected_reviews = reviews_list\n",
    "    else:\n",
    "        # Randomly select 5 reviews from the list\n",
    "        selected_reviews = random.sample(reviews_list, num_reviews)\n",
    "    \n",
    "    # Convert the selected reviews to a single string\n",
    "    reviews_text = \" \".join(selected_reviews)\n",
    "    \n",
    "    # Generate a summary\n",
    "    summary = summarizer(reviews_text, max_length=150, min_length=50, do_sample=False)\n",
    "    \n",
    "    # Return the summary text\n",
    "    return summary[0]['summary_text']"
   ]
  },
  {
   "cell_type": "code",
   "execution_count": 54,
   "metadata": {},
   "outputs": [],
   "source": [
    "import torch\n",
    "from transformers import pipeline\n",
    "device = torch.device(\"mps\") if torch.backends.mps.is_available() else torch.device(\"cpu\")\n",
    "\n",
    "# Load the summarization pipeline (you can use BART or another model)\n",
    "summarizer = pipeline(\"summarization\", model=\"facebook/bart-large-cnn\", device=0 if torch.backends.mps.is_available() else -1)"
   ]
  },
  {
   "cell_type": "code",
   "execution_count": 55,
   "metadata": {},
   "outputs": [
    {
     "name": "stderr",
     "output_type": "stream",
     "text": [
      "Your max_length is set to 150, but your input_length is only 118. Since this is a summarization task, where outputs shorter than the input are typically wanted, you might consider decreasing max_length manually, e.g. summarizer('...', max_length=59)\n"
     ]
    }
   ],
   "source": [
    "top_categories['summary'] = top_categories['reviews.text'].apply(summarize_reviews)\n",
    "\n",
    "    # Save the DataFrame to a new CSV\n",
    "top_categories.to_csv('dataset/interim/products_with_summaries.csv', index=False)\n",
    "\n",
    "    # Display the updated DataFrame with summaries"
   ]
  },
  {
   "cell_type": "code",
   "execution_count": 56,
   "metadata": {},
   "outputs": [
    {
     "data": {
      "text/html": [
       "<div>\n",
       "<style scoped>\n",
       "    .dataframe tbody tr th:only-of-type {\n",
       "        vertical-align: middle;\n",
       "    }\n",
       "\n",
       "    .dataframe tbody tr th {\n",
       "        vertical-align: top;\n",
       "    }\n",
       "\n",
       "    .dataframe thead th {\n",
       "        text-align: right;\n",
       "    }\n",
       "</style>\n",
       "<table border=\"1\" class=\"dataframe\">\n",
       "  <thead>\n",
       "    <tr style=\"text-align: right;\">\n",
       "      <th></th>\n",
       "      <th>label</th>\n",
       "      <th>name_clean</th>\n",
       "      <th>reviews.text</th>\n",
       "      <th>nr_reviews</th>\n",
       "      <th>sentiment</th>\n",
       "      <th>cat</th>\n",
       "      <th>summary</th>\n",
       "    </tr>\n",
       "  </thead>\n",
       "  <tbody>\n",
       "    <tr>\n",
       "      <th>1</th>\n",
       "      <td>Topic 4</td>\n",
       "      <td>Echo (White)</td>\n",
       "      <td>[Stay away from the certified refurbished Amaz...</td>\n",
       "      <td>8</td>\n",
       "      <td>1.941088</td>\n",
       "      <td>5 Star</td>\n",
       "      <td>This is one of the best purchases I have made ...</td>\n",
       "    </tr>\n",
       "    <tr>\n",
       "      <th>0</th>\n",
       "      <td>Topic 4</td>\n",
       "      <td>Brand New Amazon Kindle Fire 16gb 7 Ips Displa...</td>\n",
       "      <td>[Having received my Fire TV today, I've been t...</td>\n",
       "      <td>6</td>\n",
       "      <td>1.920039</td>\n",
       "      <td>5 Star</td>\n",
       "      <td>The image quality (movies and games) is excell...</td>\n",
       "    </tr>\n",
       "    <tr>\n",
       "      <th>6</th>\n",
       "      <td>home</td>\n",
       "      <td>Amazon Fire Hd 6 Standing Protective Case(4th ...</td>\n",
       "      <td>[My family really enjoys the Amazon Echo. We h...</td>\n",
       "      <td>7</td>\n",
       "      <td>2.000000</td>\n",
       "      <td>5 Star</td>\n",
       "      <td>The Amazon Echo is a great way to control your...</td>\n",
       "    </tr>\n",
       "    <tr>\n",
       "      <th>13</th>\n",
       "      <td>home</td>\n",
       "      <td>Kindle Dx Leather Cover</td>\n",
       "      <td>[Purchased the Echo as a bridal shower gift. M...</td>\n",
       "      <td>9</td>\n",
       "      <td>2.000000</td>\n",
       "      <td>5 Star</td>\n",
       "      <td>The Amazon Echo has very good voice recognitio...</td>\n",
       "    </tr>\n",
       "    <tr>\n",
       "      <th>4</th>\n",
       "      <td>home</td>\n",
       "      <td>Amazon 9W PowerFast Official OEM USB Charger a...</td>\n",
       "      <td>[I have been using this for awhile and it defi...</td>\n",
       "      <td>36</td>\n",
       "      <td>1.972222</td>\n",
       "      <td>5 Star</td>\n",
       "      <td>Alexa is like having music on demand and so mu...</td>\n",
       "    </tr>\n",
       "  </tbody>\n",
       "</table>\n",
       "</div>"
      ],
      "text/plain": [
       "      label                                         name_clean  \\\n",
       "1   Topic 4                                       Echo (White)   \n",
       "0   Topic 4  Brand New Amazon Kindle Fire 16gb 7 Ips Displa...   \n",
       "6      home  Amazon Fire Hd 6 Standing Protective Case(4th ...   \n",
       "13     home                            Kindle Dx Leather Cover   \n",
       "4      home  Amazon 9W PowerFast Official OEM USB Charger a...   \n",
       "\n",
       "                                         reviews.text  nr_reviews  sentiment  \\\n",
       "1   [Stay away from the certified refurbished Amaz...           8   1.941088   \n",
       "0   [Having received my Fire TV today, I've been t...           6   1.920039   \n",
       "6   [My family really enjoys the Amazon Echo. We h...           7   2.000000   \n",
       "13  [Purchased the Echo as a bridal shower gift. M...           9   2.000000   \n",
       "4   [I have been using this for awhile and it defi...          36   1.972222   \n",
       "\n",
       "       cat                                            summary  \n",
       "1   5 Star  This is one of the best purchases I have made ...  \n",
       "0   5 Star  The image quality (movies and games) is excell...  \n",
       "6   5 Star  The Amazon Echo is a great way to control your...  \n",
       "13  5 Star  The Amazon Echo has very good voice recognitio...  \n",
       "4   5 Star  Alexa is like having music on demand and so mu...  "
      ]
     },
     "execution_count": 56,
     "metadata": {},
     "output_type": "execute_result"
    }
   ],
   "source": [
    "top_categories.head()"
   ]
  },
  {
   "cell_type": "markdown",
   "metadata": {},
   "source": [
    "### Cerate Posts:"
   ]
  },
  {
   "cell_type": "markdown",
   "metadata": {},
   "source": [
    "# Generate blogposts blogposts:"
   ]
  },
  {
   "cell_type": "code",
   "execution_count": 57,
   "metadata": {},
   "outputs": [],
   "source": [
    "import torch\n",
    "from transformers import AutoTokenizer, AutoModelForCausalLM, pipeline\n",
    "\n",
    "# Load the tokenizer and model\n",
    "model_name = \"EleutherAI/gpt-neo-1.3B\" \n",
    "tokenizer = AutoTokenizer.from_pretrained(model_name)\n",
    "model = AutoModelForCausalLM.from_pretrained(model_name)\n",
    "\n",
    "# Set the device to GPU if available, otherwise CPU\n",
    "device = torch.device(\"cuda\" if torch.cuda.is_available() else \"cpu\")\n",
    "model.to(device)  # Move model to the correct device\n",
    "\n",
    "# Initialize the pipeline for text generation\n",
    "generator = pipeline(\"text-generation\", model=model, tokenizer=tokenizer, device=0 if device.type == \"cuda\" else -1)\n",
    "\n",
    "def generate_blog_post(product_name, summary):\n",
    "    prompt = f\"Write a blog post about the product '{product_name}' based on the following review summary: {summary}\"\n",
    "    \n",
    "    inputs = tokenizer(prompt, return_tensors=\"pt\").to(device)  # Move inputs to the correct device\n",
    "    input_ids = inputs[\"input_ids\"]\n",
    "    \n",
    "    # Generate text with attention_mask and max_length control\n",
    "    outputs = model.generate(\n",
    "        input_ids, \n",
    "        attention_mask=inputs[\"attention_mask\"],  # Add attention_mask to inputs\n",
    "        max_length=500, \n",
    "        num_return_sequences=1, \n",
    "        no_repeat_ngram_size=2, \n",
    "        temperature=0.7,\n",
    "        pad_token_id=tokenizer.eos_token_id  # Set pad_token_id explicitly\n",
    "    )\n",
    "\n",
    "    # Decode the generated text\n",
    "    generated_text = tokenizer.decode(outputs[0], skip_special_tokens=True)\n",
    "    \n",
    "    # Split the text at the first two new lines (\\n\\n) and keep the part after the split\n",
    "    blog_post = generated_text.split(\"\\n\\n\", 1)[-1].strip()  # Ensure you only keep the blog post text\n",
    "\n",
    "    return blog_post"
   ]
  },
  {
   "cell_type": "code",
   "execution_count": 58,
   "metadata": {},
   "outputs": [
    {
     "name": "stdout",
     "output_type": "stream",
     "text": [
      "Echo (White)\n",
      "5 Star\n",
      "This is one of the best purchases I have made in the past year. Love it, had the stick and it was kinda slow navigating. This one is much faster. Was going to use this and cancel cable. When I told my cable company I wanted to cancel and I was just going to stream everything they cut my bundle cost by 100.\n"
     ]
    },
    {
     "name": "stderr",
     "output_type": "stream",
     "text": [
      "/Users/weemoe/Documents/Projects/ironhack_project/project_amazon/venv/lib/python3.12/site-packages/transformers/generation/configuration_utils.py:601: UserWarning: `do_sample` is set to `False`. However, `temperature` is set to `0.7` -- this flag is only used in sample-based generation modes. You should set `do_sample=True` or unset `temperature`.\n",
      "  warnings.warn(\n"
     ]
    },
    {
     "name": "stdout",
     "output_type": "stream",
     "text": [
      "Brand New Amazon Kindle Fire 16gb 7 Ips Display Tablet Wifi 16 Gb Blue\n",
      "5 Star\n",
      "The image quality (movies and games) is excellent. Navigation is very straightforward and it's generally easy to find anything you're looking for. Installation of games and apps goes very smoothly and generally pretty quickly. As far as I can tell, there's no way to limit the list of movies and tv shows to what is available for Amazon Prime members.\n",
      "Amazon Fire Hd 6 Standing Protective Case(4th Generation - 2014 Release)\n",
      "5 Star\n",
      "The Amazon Echo is a great way to control your TV and music. The sound is good, and it gets really loud. Set up was easy. New features are always added. It is compatible with a growing list of products. This will again revolutionize home functionality.\n",
      "Kindle Dx Leather Cover\n",
      "5 Star\n",
      "The Amazon Echo has very good voice recognition. It works just as advertised and is quick with the responses. The setup was easy and quick. Next purchase...smart plugs so I can turn some items off and on with my voice. Price is very fair for this product.\n",
      "Amazon 9W PowerFast Official OEM USB Charger and Power Adapter for Fire Tablets and Kindle eReaders\n",
      "5 Star\n",
      "Alexa is like having music on demand and so much more. Great for adults and kids!!! No need to be tech savvy with the Echo. Works Great and easy to use!!!! I bought is item as a family Christmas gift. My children absolutely love it and it was perfect for my wife.\n",
      "Amazon - Fire 16GB (5th Gen\n",
      "5 Star\n",
      "I love my Kindle Voyage, however it does not have a speaker for audio books. Went back and forth between this and the Oasis but in the end just couldn't justify the added cost. So far I'm happy with this model.\n",
      "Amazon Echo and Fire TV Power Adapter\n",
      "5 Star\n",
      "This is the first e-reader I've gotten and I LOVE it! In general, kindles are awesome because there is a bunch of free material you can download on amazon that you can just carry around with you. The page turning function is a little weird to get used to but you can also swipe if you don't like the sensors on the side.\n",
      "Amazon Fire Kids Edition Tablet\n",
      "5 Star\n",
      "Slim and lightweight when not using a case which I appreciate most about this kindle. The text is sharp and paper like in well lit conditions. When using the backlight in dark conditions it becomes less paper like but is quiet useful if you wanna ditch clip on lights.\n",
      "Fire Tablet\n",
      "Fiasko\n",
      "Kindle Paperwhite launched July 2015. It has a fantastic upgraded (300 dpi) screen, more memory and storage. It can store 1,000s of books - take an entire library away with you on holiday. You can also share your books with the entire family via Amazon Family Library. The Kindle Paperwhite is available in black or white.\n",
      "New Amazon Kindle Fire Hd 9w Powerfast Adapter Charger + Micro Usb Angle Cable\n",
      "Fiasko\n",
      "Alexa is my new favorite device. Easy to set up and use. Tons of information and jokes. Plays all my music and give spots scores. While not perfect, it's a lot of un to use. Attaching to my Hue lights and Nest were a longer process to make it work. Plus with a 2 story house it is useless if not on the same floor.\n",
      "Amazon 5W USB Official OEM Charger and Power Adapter for Fire Tablets and Kindle eReaders\n",
      "Fiasko\n",
      "This is a great product! Our family loves the convenience of asking questions on the go! This unit is just like a member of the family, it answers questions, plays my favorite music and gives me reminders! When companies play nice with each other... the customers win.\n",
      "All-New Kindle E-reader - Black\n",
      "Fiasko\n",
      "This is a fairly standard item for use with wall/standard US AC plugs. It is well designed and will meet your charging needs when connected to the required USB cable. A waste of money. You don't need this. Just plug your tablet into your computer and the charge lasts for a month.\n",
      "Kindle Oasis E-reader with Leather Charging Cover - Black\n",
      "Fiasko\n",
      "I got this to replace the iPad for a child. I am so disappointed by the charge. It dies so quickly and the charger has to be wrapped around the tablet in order for it to charge. Low price but not worth the hassle and disappointment! Good product with great value.\n",
      "Blog post for product 'Echo (White)' in category 'Topic 4':\n",
      "I have been using this for a few months now and have had no problems. The only thing I would change is to change the color of it. It is a little too dark for me. But I love it!\n",
      "The only problem I had was with the remote. My remote was broken and the only way to get it to work was to buy a new one. So I bought a replacement remote and that worked great. Now I can use the Echo (white) with my Echo Dot. And I don't have to worry about my remote breaking. Great product! I will be buying more! :)\n",
      "Thanks for the great product. :) I really like it and will continue to purchase. Thanks!\n",
      "\n",
      "Blog post for product 'Brand New Amazon Kindle Fire 16gb 7 Ips Display Tablet Wifi 16 Gb Blue' in category 'Topic 4':\n",
      "The Kindle has a lot of potential, especially if it can be made to work with Amazon's Prime service. But it doesn't have the features that Amazon needs to make it a successful product. Amazon has to do a better job of making the Kindle a good tablet, or it will be a failure. I'm not sure that it has the potential to be that good. If it were, it would be the best tablet on Amazon.com. Unfortunately, that isn't the case. There are a few things that make the Amazon tablet a bad tablet:\n",
      "1. No Kindle app store. This is the biggest problem with the tablet and the reason why it isn’t a great tablet for the majority of Amazon customers. You can‘t buy apps for it, you can only buy Kindle books. That“s not much of a selling point. And it”s a problem that will only get worse as Amazon continues to add more and more features to the device. For example, the ability to buy books from Amazon‚Äôs Kindle store is one of the most important features of any tablet that I„ve ever seen. Without it you‟re just buying books that you already have. So, if you want to read books, then you have to go to Amazon and buy them. With the app stores, Amazon can sell you books and then give you the option to download them to your Kindle. They can also sell apps to you, which is another way of getting you to use the apps. In addition, they can give away apps, so you don‖t have a choice. All of these features are important to me, because I use my Kindle every day. However, I don't think that they are enough to get me to switch to\n",
      "\n",
      "Blog post for product 'Amazon Fire Hd 6 Standing Protective Case(4th Generation - 2014 Release)' in category 'home':\n",
      "The Amazon Fire HD 6 is the latest addition to the Fire TV line. With a new design, it is now a full-size HDTV. Amazon has also added a number of new features to make it even better. One of the most important features is that it has a built-in speaker. You can now use the Amazon Alexa voice assistant to play music, control the TV, or even control other devices. There is also a remote control that you can use to change the channel, pause the show, change channels, etc. If you have a Fire tablet, you will be able to use it to stream content from Amazon.com. In addition, the new Fire is able play content on your FireTV, Fire tablets, Amazon Kindle Fire, Android tablets and Amazon's own Fire OS devices, including the Kindle. All of these devices are compatible. For the first time, there is an Amazon app for the Android TV. And, of course, all of this is available on Amazon Prime. So, if you are looking for a TV that is easy to set up, has all the features you need, is very affordable, but is still very powerful, then the HD Fire 6 may be the best TV you could ever buy. We have reviewed the previous generation of Fire TVs, so we know what we are talking about. But, we also know that the next generation is going to be even more powerful. That is why we have decided to review the 6th generation Fire. Here is what you get with the 5th-generation Fire:\n",
      "We have also reviewed a few of Amazon’s other products, such as the Echo Dot, Echo Show, Kindle, Prime Now, Alexa, AirPlay, HomeKit, SmartThings, Sonos, Wink, Nest, Philips Hue, Google Home, Chromecast, Apple TV 4K, Roku, Xbox One, PlayStation 4, Nintendo Switch, Wii U, PS3, XBox One and Xbox 360. These are all products that are available for purchase on their respective websites. They\n",
      "\n",
      "Blog post for product 'Kindle Dx Leather Cover' in category 'home':\n",
      "I have a Kindle Fire HD 8.9 and I love it. I have been using it for a few months now and it is a great device. However, I am having a problem with it not recognizing my Kindle. When I plug it in, it recognizes it and the screen turns on, but it does not recognize the Kindle and does nothing. If I try to turn it on it just goes to the Amazon logo and nothing else. Any ideas?\n",
      "The Amazon Kindle is the best device I've ever used. My wife and kids love the device and have used it to read books, magazines, and newspapers. They love to use it as well. But, when I turn on my Amazon Fire, the only thing it shows is Amazon.com. No Kindle logo. This is not a good thing. Please help. Thanks. --\n",
      "Kindles are great devices, especially for the price. Amazon has a lot of great deals on them. You can get a new one for $100, or a used one that is still working for about $20. There are also a ton of Kindle apps for your phone, tablet, computer, etc. that you can use to get the most out of your Kindle, including Kindle books. Kindle ebooks are available for free on Kindle's website. And, if you have an Amazon Prime account, you get free two-day shipping on all Kindle purchases. So, there are a bunch of ways to save money on your Amazon purchases, even if they are not Kindle-specific. Just make sure you read the fine print on any deals you find. Also, be sure to check out the reviews on Amazon before you buy. Some people have had bad experiences with Amazon, so be careful. Good luck!\n",
      "Amazon has an excellent selection of books and other items. In addition, Amazon offers a wide variety of e-books, music, movies, audiobooks, games, apps, eBooks, Kindle devices and more. All of these items are free to download and use. For example, here are some of the books that are currently\n",
      "\n",
      "Blog post for product 'Amazon 9W PowerFast Official OEM USB Charger and Power Adapter for Fire Tablets and Kindle eReaders' in category 'home':\n",
      "I bought this charger for the Amazon Echo and the Fire TV. It works great and is easy and fast to charge. The charger is very durable and I have not had any problems with it. This charger has a USB port and a micro USB connector. You can use it with any USB charger. If you have a Fire tablet, you can charge it directly from the charger and then use the USB cable to plug into the tablet. There is a small hole in the bottom of the charging port that allows you to insert the cable. When you plug the power adapter into your tablet or FireTV, it will charge the device. Once the battery is fully charged, the screen will turn on and you will be able to hear the music. We have had no problems charging the Kindle Fire. Amazon has great customer service and they are very helpful. They are always quick to respond to any questions we have. Overall, I am very happy with this product. Thank you Amazon!\n",
      "The Amazon Fire is the best tablet I've ever used. With the Alexa voice assistant, my kids can do everything they want to do. Alexa can play music, play games, and even control their smart home devices. And, with Amazon's free Prime shipping, they can get the latest movies and TV shows for free. Plus, Amazon Prime members get free two-day shipping on all orders. So, if you're looking for a great tablet that's easy on your wallet, this is it! Amazon is my go-to place for all my tech needs. Thanks Amazon. :)\n",
      "Amazon has been a leader in e-commerce for years. But, in recent years, their online sales have been declining. In fact, according to a recent report by eMarketer, eCommerce sales in 2017 were down by more than 20% compared to 2016. That’s a big problem for Amazon, which is trying to turn things around with its new Prime program. Prime is\n",
      "\n",
      "Blog post for product 'Amazon - Fire 16GB (5th Gen' in category 'tablets':\n",
      "I have been using the Amazon Fire HD for a couple of months now and have found it to be a very good device. However, I was looking for something that would be able to play audio files and was disappointed to find that the Fire does NOT have an audio player. This is not a problem for me as I can listen to audio on my computer and listen on a portable device such as my iPod. But I wanted something to listen audio from my Fire. Amazon has a great selection of audio players and it would have made it much easier to get the audio I want. Unfortunately, the only audio device that Amazon offers is an Amazon MP3 player and that is only for listening to music. There is no way to download audio to the device and play it on your computer. If you want to use the MP4 format, you will need to purchase a separate player that will play MP5 files. For the price, it's a good deal. And I think it will be worth it. My only complaint is that I wish the speakers were larger. They are very small and not very loud. Also, they are not as bright as the Kindle Fire's speakers. Overall, this is my first Fire and so far, so good. Thanks Amazon!\n",
      "The Amazon Kindle is one of those devices that you can't go wrong with. You can read books, listen music, and watch movies on it, all without having to worry about a computer or a laptop. In fact, if you have the right kind of device, there's no reason why you shouldn't be reading or watching on this device as well. That's why I've been very happy to have this Kindle. As I mentioned, Amazon is known for having a wide selection and a lot of great products. With the new Fire, that's even more true. Here are some of Amazon's\n",
      "\n",
      "Blog post for product 'Amazon Echo and Fire TV Power Adapter' in category 'tablets':\n",
      "I've been using the Echo for a few weeks now and it has been a huge hit. It's so easy to use and the voice recognition is so good. My only complaint is that the battery life is pretty short. If you're going for the best battery, I would recommend getting the Fire HD 8GB. That's the only thing I can think of that would make it better. But I don’t think that‘s the case. Amazon has a ton of great products and they”re not going away. They“re just going up in price. So if I were you, the next best thing is to go with the Kindle Fire. You can get a lot of the same stuff for less money. And if it„s not the right size, you‟ll be able to find a better deal. There are a couple of other things I‚m going through right now that I really like. One is their new smart light. This thing has really cool features. For example, it can tell you if your light is on or off. Another one is this thing that they call the “Smart Lock‖. Basically, this is like a smart key that can open your door. Now, if that doesn›t work for you then you could always just use your key. Or you might want to try the door lock. Again, that might not work. Then you have the smart lock that has an app that will let you know if there‹s a door open or closed. All of these things are really great.‡\n",
      "The Amazon Fire is one of my favorite devices. However, there are some things that are not as good as the other devices in the lineup. First, Amazon doesn't have a good selection of apps for their devices, so you'll have to download them from\n",
      "\n",
      "Blog post for product 'Amazon Fire Kids Edition Tablet' in category 'tablets':\n",
      "The tablet is very light and easy to hold. It is also very easy for me to read the screen. I have used it for a few days and I am very happy with it. My only complaint is that the battery life is not as good as I would like. If you are looking for an affordable tablet that is light, easy and has a good battery, this is the one for you. You can also get the Amazon Fire HD 8.9 tablet for $199.99. This is a great deal. Amazon also has the Kindle Fire 7.1 tablet which is $99 and the Fire TV Stick for only $49.95. These are great deals. There are also other tablets that are cheaper but not quite as light as the fire tablet. For example, the Asus Transformer Book T100 is only about $100 and is quite light. However, it is still a tablet and not a laptop. So, if your looking to buy a light tablet, you should look at the lightest tablet on Amazon.com. That is why I recommend the tablet above. But, I do recommend that you look for the best tablet you can find. And, that tablet should be light enough to be used as a notebook. Otherwise, your tablet will be too heavy to use as your laptop or tablet computer. Also, look into the price of the tablets. Some of them are very expensive. Look for one that has good value for your money. Then, go for it!\n",
      "I am a big fan of Amazon and have been for years. They have a wide selection of products and are always willing to help me find the right product for my needs. Their customer service is always prompt and helpful. In fact, they have helped me with my Kindle and Kindle Paperwhite. Now, with the new Kindle, Amazon has made it even easier to find what I need. With the latest Kindle tablet I can now find my favorite books, movies, music, and more. All I had to do was go to Amazon, search for what my book or movie was, then click on it\n",
      "\n",
      "Blog post for product 'Fire Tablet' in category 'home':\n",
      "The Fire Tablet is a tablet that is designed to be used with a Kindle Fire. This means that you can use it with your Kindle, but you will need to have a Fire tablet to use the Fire app. If you have an Amazon Fire, you are able to download the Kindle app for your Fire and use your tablet with it. However, if you do not have one of these devices, the tablet will not work with Kindle. There are a few different models of Fire tablets available, and they are all compatible with Amazon's Kindle apps. We have reviewed the Amazon Kindle for Android, Kindle e-reader, Amazon tablet, Fire TV, iPad, iPhone, iPod touch, Android tablet and Kindle tablet. All of the devices are compatible and we have also reviewed all of them. In this review, we will be looking at the Samsung Galaxy Tab 10.1, which is the most recent model of this tablet line. Samsung has been a major player in the Android market for a number of years now, so it is no surprise that they have released a new tablet in this line of products. They have been known to release new tablets at a rapid pace, with new models being released every few months. So, it should come as no shock that Samsung is releasing a 10-inch tablet this year. What is surprising is that the Galaxy 10 is not a full-size tablet like the iPad or the Nexus 7. Instead, this is an 8-incher. That means it has an extra inch of screen real estate, making it a bit larger than the 10 inch tablets that we reviewed. But, that doesn't mean that it's a bad tablet for the price. On the contrary, Samsung's 10\" tablet is one that will appeal to a wide range of users. And, as we mentioned, there are many different versions of Samsung tablets. Some of which are smaller than others. For example, some of their tablets are only 8 inches, while others are 10 inches. As a result, they all have different screen sizes\n",
      "\n",
      "Blog post for product 'New Amazon Kindle Fire Hd 9w Powerfast Adapter Charger + Micro Usb Angle Cable' in category 'home':\n",
      "I have a Kindle and a Fire. The Kindle is great, but I have to charge it every night. It's not a big deal, I just plug it in and it charges. But the Fire is a different story. When I first got it, the battery was dead. So I had to buy a new one. Then I got a second one and the second battery died. Now I can't charge the Kindle. And I'm not sure if I should charge my Fire or not. What do you think?\n",
      "The Amazon Fire HD 8 is the best tablet you can buy. You can use it as a laptop, tablet, or phone. With the 8 inch screen, you get a great viewing experience. If you are looking for a tablet that is easy to carry around, this is it. This tablet is also very lightweight. There is no need to worry about it falling over. Also, if you have kids, they can play games on it without any problems. For the price, there is not much to complain about. Amazon has a good selection of tablets. They are all very affordable. In fact, Amazon is offering a free tablet for the first 50 customers to sign up. That is pretty good. However, for those who are not interested in tablets, then the Amazon tablet will not be a bad choice. As long as you don't mind the size, and you like the tablet. you will be happy. Just make sure you buy the right one for you. Here are some of the features that you should look for in a Amazon Tablet. 1. Great Screen. 2. Good Battery Life. 3. Fast Charging. 4. Very Lightweight. 5. High Quality Design. 6. Excellent Performance. 7. Affordable Price. 8. No Warranty. 9. Best Price Guarantee. 10. Low Price Lowest Price Amazon.com\n",
      "\n",
      "Blog post for product 'Amazon 5W USB Official OEM Charger and Power Adapter for Fire Tablets and Kindle eReaders' in category 'home':\n",
      "Amazon has a new product that is going to be a hit with the Amazon Prime members. This product is called Amazon 5w USB Charging and it is the official OEM charger and power adapter for Amazon Fire tablets and Amazon Kindle. The Amazon official charger is very easy to use and the power is great. It is also very durable and has the ability to charge the Kindle Fire tablet and Fire TV. Amazon has also added a USB to Lightning cable to make it even easier to plug in the charger. I have been using this charger for a few weeks now and I am very happy with it. If you are looking for an official Amazon charger, this is it!\n",
      "The Amazon power cable is made of a very strong and durable material. You can use it to power your Kindle, Fire Tablet, and other Amazon devices. There is no need to worry about it breaking or getting damaged. Also, the USB cable has an extra USB port that allows you to connect your USB devices to the charging port. So, you can charge your devices with your Amazon device. For more information about Amazon Power Cables, please visit Amazon.com. We have a review of this product here. Please visit the link below to read the review. http://www.amazon.co.uk/gp/product/B00JZHZVQM/ref=oh_aui_detailpage_o02_s00?ie=UTF8&psc=1\n",
      "This is an Amazon product. All Amazon products are sold by Amazon, Inc. (“Amazon”). Amazon is not affiliated with, sponsored by, or endorsed by the manufacturers of any of Amazon’s products. Any trademarks, service marks, product names, logos, brands, trademarks or copyrights are the property of their respective owners. No affiliation or endorsement is implied or expressed by any Amazon brand or product name.\n",
      "\n",
      "Blog post for product 'All-New Kindle E-reader - Black' in category 'tablets':\n",
      "This is an excellent product. I have been using it for about a week now and I am very happy with it. The only problem I had was that I was unable to charge it with the USB charger. When I plugged it into the wall charger, it would not charge. So I tried to plug it in to my computer, but it wouldn't charge either. After a few hours of trying to figure out what was wrong, I realized that the charger was not working. This was a very frustrating experience. If you are looking for an e-book reader that will charge your Kindle, this is not the one. However, if you want a good ereader that charges your eReader, then this one is worth the money and it is very well made. My only complaint is that it does not have a USB port. That is something that you would want to have. Otherwise, the ebook reading experience is great. Overall, a great product that is easy to use. Highly recommended. (Posted on 8/23/13)\n",
      "I have had this for over a year and have read over 100 books on it and still use it every day. There is no need to buy a new one, just plug in your device and you will be reading for hours. Also, you can use the included USB cord to recharge the device. All in all, great device! (posted on 9/1/12) I bought this ereaders for my son and he loves it! He has been reading books for years and loves the ability to read on his Kindle. He is able to do this with his tablet and eReaders. We have not had any problems with this device or the Kindle itself. Great product! I would recommend this to anyone!\n",
      "The Kindle is the best ereading device I've ever used. Not only does it have the most features, and is one of the easiest to set up, yet it's also the cheapest. And it has a lot of features that are not available on other ebooks. For\n",
      "\n",
      "Blog post for product 'Kindle Oasis E-reader with Leather Charging Cover - Black' in category 'tablets':\n",
      "I bought this for my daughter who is a big fan of the Kindle. She loves the fact that it has a leather cover and it is very comfortable to hold. The only problem is that the cover is not very durable. We have had it for about a month and I have noticed that there is some wear on it. Also, the leather is soft and not as hard as the other leather covers. Overall, I would recommend this product to anyone who wants a Kindle with a nice leather case. However, if you are looking for something that is more durable, this is the one to get. If you want a more expensive Kindle, you can get the Nook Color or the Amazon Kindle HD. Both of these are more costly than the Oasis. You can also get a NOOK Tablet for less than $100. This is an excellent value for the money. My daughter loves it and she is so happy with it!\n",
      "The Kindle OASIS is one of my favorite e-readers. There are a lot of great features that make it a great ereader. One of them is its ability to read books on a variety of devices. For example, it can read on an iPad, Kindle Fire, Nooks, and even a laptop. Another great feature is it's ability for you to use the eReader as a tablet. With the touch screen, there are no buttons to press to navigate the device. Instead, just touch the screen to select a book. When you select the book, a list of books will appear on your screen. Then, simply touch a button to start reading. Kindle also has an app that allows you read the books you have purchased. So, with the app, your books are always available. And, of course, all of this comes with an attractive price. Amazon has the best prices on eReaders and this Oasi is no exception. In fact, Amazon is offering the same price as Amazon.com for this eReading device as well. That is, $79.99\n",
      "\n"
     ]
    }
   ],
   "source": [
    "# Add a new column to store the generated blog posts\n",
    "top_categories['blogpost'] = ''\n",
    "\n",
    "# Loop over each row in the DataFrame and generate the blog post\n",
    "for idx, row in top_categories.iterrows():\n",
    "    \n",
    "    product_name = row['name_clean']\n",
    "    summary = row['summary']\n",
    "    cat = row['cat']\n",
    "    print(product_name)\n",
    "    print(cat)\n",
    "    print(summary)\n",
    "    # Generate the blog post for the current product\n",
    "    blog_post = generate_blog_post(product_name, summary)\n",
    "    \n",
    "    # Store the generated blog post in the new 'blogpost' column for the current row\n",
    "    top_categories.at[idx, 'blogpost'] = blog_post\n",
    "\n",
    "# Print a sample blog post for a category\n",
    "for idx, row in top_categories.iterrows():\n",
    "    print(f\"Blog post for product '{row['name_clean']}' in category '{row['label']}':\\n{row['blogpost']}\\n\")"
   ]
  },
  {
   "cell_type": "code",
   "execution_count": 59,
   "metadata": {},
   "outputs": [
    {
     "name": "stdout",
     "output_type": "stream",
     "text": [
      "Blog post for product 'Echo (White)' in category 'Topic 4':\n",
      "I have been using this for a few months now and have had no problems. The only thing I would change is to change the color of it. It is a little too dark for me. But I love it!\n",
      "The only problem I had was with the remote. My remote was broken and the only way to get it to work was to buy a new one. So I bought a replacement remote and that worked great. Now I can use the Echo (white) with my Echo Dot. And I don't have to worry about my remote breaking. Great product! I will be buying more! :)\n",
      "Thanks for the great product. :) I really like it and will continue to purchase. Thanks!\n",
      "\n",
      "Blog post for product 'Brand New Amazon Kindle Fire 16gb 7 Ips Display Tablet Wifi 16 Gb Blue' in category 'Topic 4':\n",
      "The Kindle has a lot of potential, especially if it can be made to work with Amazon's Prime service. But it doesn't have the features that Amazon needs to make it a successful product. Amazon has to do a better job of making the Kindle a good tablet, or it will be a failure. I'm not sure that it has the potential to be that good. If it were, it would be the best tablet on Amazon.com. Unfortunately, that isn't the case. There are a few things that make the Amazon tablet a bad tablet:\n",
      "1. No Kindle app store. This is the biggest problem with the tablet and the reason why it isn’t a great tablet for the majority of Amazon customers. You can‘t buy apps for it, you can only buy Kindle books. That“s not much of a selling point. And it”s a problem that will only get worse as Amazon continues to add more and more features to the device. For example, the ability to buy books from Amazon‚Äôs Kindle store is one of the most important features of any tablet that I„ve ever seen. Without it you‟re just buying books that you already have. So, if you want to read books, then you have to go to Amazon and buy them. With the app stores, Amazon can sell you books and then give you the option to download them to your Kindle. They can also sell apps to you, which is another way of getting you to use the apps. In addition, they can give away apps, so you don‖t have a choice. All of these features are important to me, because I use my Kindle every day. However, I don't think that they are enough to get me to switch to\n",
      "\n",
      "Blog post for product 'Amazon Fire Hd 6 Standing Protective Case(4th Generation - 2014 Release)' in category 'home':\n",
      "The Amazon Fire HD 6 is the latest addition to the Fire TV line. With a new design, it is now a full-size HDTV. Amazon has also added a number of new features to make it even better. One of the most important features is that it has a built-in speaker. You can now use the Amazon Alexa voice assistant to play music, control the TV, or even control other devices. There is also a remote control that you can use to change the channel, pause the show, change channels, etc. If you have a Fire tablet, you will be able to use it to stream content from Amazon.com. In addition, the new Fire is able play content on your FireTV, Fire tablets, Amazon Kindle Fire, Android tablets and Amazon's own Fire OS devices, including the Kindle. All of these devices are compatible. For the first time, there is an Amazon app for the Android TV. And, of course, all of this is available on Amazon Prime. So, if you are looking for a TV that is easy to set up, has all the features you need, is very affordable, but is still very powerful, then the HD Fire 6 may be the best TV you could ever buy. We have reviewed the previous generation of Fire TVs, so we know what we are talking about. But, we also know that the next generation is going to be even more powerful. That is why we have decided to review the 6th generation Fire. Here is what you get with the 5th-generation Fire:\n",
      "We have also reviewed a few of Amazon’s other products, such as the Echo Dot, Echo Show, Kindle, Prime Now, Alexa, AirPlay, HomeKit, SmartThings, Sonos, Wink, Nest, Philips Hue, Google Home, Chromecast, Apple TV 4K, Roku, Xbox One, PlayStation 4, Nintendo Switch, Wii U, PS3, XBox One and Xbox 360. These are all products that are available for purchase on their respective websites. They\n",
      "\n",
      "Blog post for product 'Kindle Dx Leather Cover' in category 'home':\n",
      "I have a Kindle Fire HD 8.9 and I love it. I have been using it for a few months now and it is a great device. However, I am having a problem with it not recognizing my Kindle. When I plug it in, it recognizes it and the screen turns on, but it does not recognize the Kindle and does nothing. If I try to turn it on it just goes to the Amazon logo and nothing else. Any ideas?\n",
      "The Amazon Kindle is the best device I've ever used. My wife and kids love the device and have used it to read books, magazines, and newspapers. They love to use it as well. But, when I turn on my Amazon Fire, the only thing it shows is Amazon.com. No Kindle logo. This is not a good thing. Please help. Thanks. --\n",
      "Kindles are great devices, especially for the price. Amazon has a lot of great deals on them. You can get a new one for $100, or a used one that is still working for about $20. There are also a ton of Kindle apps for your phone, tablet, computer, etc. that you can use to get the most out of your Kindle, including Kindle books. Kindle ebooks are available for free on Kindle's website. And, if you have an Amazon Prime account, you get free two-day shipping on all Kindle purchases. So, there are a bunch of ways to save money on your Amazon purchases, even if they are not Kindle-specific. Just make sure you read the fine print on any deals you find. Also, be sure to check out the reviews on Amazon before you buy. Some people have had bad experiences with Amazon, so be careful. Good luck!\n",
      "Amazon has an excellent selection of books and other items. In addition, Amazon offers a wide variety of e-books, music, movies, audiobooks, games, apps, eBooks, Kindle devices and more. All of these items are free to download and use. For example, here are some of the books that are currently\n",
      "\n",
      "Blog post for product 'Amazon 9W PowerFast Official OEM USB Charger and Power Adapter for Fire Tablets and Kindle eReaders' in category 'home':\n",
      "I bought this charger for the Amazon Echo and the Fire TV. It works great and is easy and fast to charge. The charger is very durable and I have not had any problems with it. This charger has a USB port and a micro USB connector. You can use it with any USB charger. If you have a Fire tablet, you can charge it directly from the charger and then use the USB cable to plug into the tablet. There is a small hole in the bottom of the charging port that allows you to insert the cable. When you plug the power adapter into your tablet or FireTV, it will charge the device. Once the battery is fully charged, the screen will turn on and you will be able to hear the music. We have had no problems charging the Kindle Fire. Amazon has great customer service and they are very helpful. They are always quick to respond to any questions we have. Overall, I am very happy with this product. Thank you Amazon!\n",
      "The Amazon Fire is the best tablet I've ever used. With the Alexa voice assistant, my kids can do everything they want to do. Alexa can play music, play games, and even control their smart home devices. And, with Amazon's free Prime shipping, they can get the latest movies and TV shows for free. Plus, Amazon Prime members get free two-day shipping on all orders. So, if you're looking for a great tablet that's easy on your wallet, this is it! Amazon is my go-to place for all my tech needs. Thanks Amazon. :)\n",
      "Amazon has been a leader in e-commerce for years. But, in recent years, their online sales have been declining. In fact, according to a recent report by eMarketer, eCommerce sales in 2017 were down by more than 20% compared to 2016. That’s a big problem for Amazon, which is trying to turn things around with its new Prime program. Prime is\n",
      "\n",
      "Blog post for product 'Amazon - Fire 16GB (5th Gen' in category 'tablets':\n",
      "I have been using the Amazon Fire HD for a couple of months now and have found it to be a very good device. However, I was looking for something that would be able to play audio files and was disappointed to find that the Fire does NOT have an audio player. This is not a problem for me as I can listen to audio on my computer and listen on a portable device such as my iPod. But I wanted something to listen audio from my Fire. Amazon has a great selection of audio players and it would have made it much easier to get the audio I want. Unfortunately, the only audio device that Amazon offers is an Amazon MP3 player and that is only for listening to music. There is no way to download audio to the device and play it on your computer. If you want to use the MP4 format, you will need to purchase a separate player that will play MP5 files. For the price, it's a good deal. And I think it will be worth it. My only complaint is that I wish the speakers were larger. They are very small and not very loud. Also, they are not as bright as the Kindle Fire's speakers. Overall, this is my first Fire and so far, so good. Thanks Amazon!\n",
      "The Amazon Kindle is one of those devices that you can't go wrong with. You can read books, listen music, and watch movies on it, all without having to worry about a computer or a laptop. In fact, if you have the right kind of device, there's no reason why you shouldn't be reading or watching on this device as well. That's why I've been very happy to have this Kindle. As I mentioned, Amazon is known for having a wide selection and a lot of great products. With the new Fire, that's even more true. Here are some of Amazon's\n",
      "\n",
      "Blog post for product 'Amazon Echo and Fire TV Power Adapter' in category 'tablets':\n",
      "I've been using the Echo for a few weeks now and it has been a huge hit. It's so easy to use and the voice recognition is so good. My only complaint is that the battery life is pretty short. If you're going for the best battery, I would recommend getting the Fire HD 8GB. That's the only thing I can think of that would make it better. But I don’t think that‘s the case. Amazon has a ton of great products and they”re not going away. They“re just going up in price. So if I were you, the next best thing is to go with the Kindle Fire. You can get a lot of the same stuff for less money. And if it„s not the right size, you‟ll be able to find a better deal. There are a couple of other things I‚m going through right now that I really like. One is their new smart light. This thing has really cool features. For example, it can tell you if your light is on or off. Another one is this thing that they call the “Smart Lock‖. Basically, this is like a smart key that can open your door. Now, if that doesn›t work for you then you could always just use your key. Or you might want to try the door lock. Again, that might not work. Then you have the smart lock that has an app that will let you know if there‹s a door open or closed. All of these things are really great.‡\n",
      "The Amazon Fire is one of my favorite devices. However, there are some things that are not as good as the other devices in the lineup. First, Amazon doesn't have a good selection of apps for their devices, so you'll have to download them from\n",
      "\n",
      "Blog post for product 'Amazon Fire Kids Edition Tablet' in category 'tablets':\n",
      "The tablet is very light and easy to hold. It is also very easy for me to read the screen. I have used it for a few days and I am very happy with it. My only complaint is that the battery life is not as good as I would like. If you are looking for an affordable tablet that is light, easy and has a good battery, this is the one for you. You can also get the Amazon Fire HD 8.9 tablet for $199.99. This is a great deal. Amazon also has the Kindle Fire 7.1 tablet which is $99 and the Fire TV Stick for only $49.95. These are great deals. There are also other tablets that are cheaper but not quite as light as the fire tablet. For example, the Asus Transformer Book T100 is only about $100 and is quite light. However, it is still a tablet and not a laptop. So, if your looking to buy a light tablet, you should look at the lightest tablet on Amazon.com. That is why I recommend the tablet above. But, I do recommend that you look for the best tablet you can find. And, that tablet should be light enough to be used as a notebook. Otherwise, your tablet will be too heavy to use as your laptop or tablet computer. Also, look into the price of the tablets. Some of them are very expensive. Look for one that has good value for your money. Then, go for it!\n",
      "I am a big fan of Amazon and have been for years. They have a wide selection of products and are always willing to help me find the right product for my needs. Their customer service is always prompt and helpful. In fact, they have helped me with my Kindle and Kindle Paperwhite. Now, with the new Kindle, Amazon has made it even easier to find what I need. With the latest Kindle tablet I can now find my favorite books, movies, music, and more. All I had to do was go to Amazon, search for what my book or movie was, then click on it\n",
      "\n",
      "Blog post for product 'Fire Tablet' in category 'home':\n",
      "The Fire Tablet is a tablet that is designed to be used with a Kindle Fire. This means that you can use it with your Kindle, but you will need to have a Fire tablet to use the Fire app. If you have an Amazon Fire, you are able to download the Kindle app for your Fire and use your tablet with it. However, if you do not have one of these devices, the tablet will not work with Kindle. There are a few different models of Fire tablets available, and they are all compatible with Amazon's Kindle apps. We have reviewed the Amazon Kindle for Android, Kindle e-reader, Amazon tablet, Fire TV, iPad, iPhone, iPod touch, Android tablet and Kindle tablet. All of the devices are compatible and we have also reviewed all of them. In this review, we will be looking at the Samsung Galaxy Tab 10.1, which is the most recent model of this tablet line. Samsung has been a major player in the Android market for a number of years now, so it is no surprise that they have released a new tablet in this line of products. They have been known to release new tablets at a rapid pace, with new models being released every few months. So, it should come as no shock that Samsung is releasing a 10-inch tablet this year. What is surprising is that the Galaxy 10 is not a full-size tablet like the iPad or the Nexus 7. Instead, this is an 8-incher. That means it has an extra inch of screen real estate, making it a bit larger than the 10 inch tablets that we reviewed. But, that doesn't mean that it's a bad tablet for the price. On the contrary, Samsung's 10\" tablet is one that will appeal to a wide range of users. And, as we mentioned, there are many different versions of Samsung tablets. Some of which are smaller than others. For example, some of their tablets are only 8 inches, while others are 10 inches. As a result, they all have different screen sizes\n",
      "\n",
      "Blog post for product 'New Amazon Kindle Fire Hd 9w Powerfast Adapter Charger + Micro Usb Angle Cable' in category 'home':\n",
      "I have a Kindle and a Fire. The Kindle is great, but I have to charge it every night. It's not a big deal, I just plug it in and it charges. But the Fire is a different story. When I first got it, the battery was dead. So I had to buy a new one. Then I got a second one and the second battery died. Now I can't charge the Kindle. And I'm not sure if I should charge my Fire or not. What do you think?\n",
      "The Amazon Fire HD 8 is the best tablet you can buy. You can use it as a laptop, tablet, or phone. With the 8 inch screen, you get a great viewing experience. If you are looking for a tablet that is easy to carry around, this is it. This tablet is also very lightweight. There is no need to worry about it falling over. Also, if you have kids, they can play games on it without any problems. For the price, there is not much to complain about. Amazon has a good selection of tablets. They are all very affordable. In fact, Amazon is offering a free tablet for the first 50 customers to sign up. That is pretty good. However, for those who are not interested in tablets, then the Amazon tablet will not be a bad choice. As long as you don't mind the size, and you like the tablet. you will be happy. Just make sure you buy the right one for you. Here are some of the features that you should look for in a Amazon Tablet. 1. Great Screen. 2. Good Battery Life. 3. Fast Charging. 4. Very Lightweight. 5. High Quality Design. 6. Excellent Performance. 7. Affordable Price. 8. No Warranty. 9. Best Price Guarantee. 10. Low Price Lowest Price Amazon.com\n",
      "\n",
      "Blog post for product 'Amazon 5W USB Official OEM Charger and Power Adapter for Fire Tablets and Kindle eReaders' in category 'home':\n",
      "Amazon has a new product that is going to be a hit with the Amazon Prime members. This product is called Amazon 5w USB Charging and it is the official OEM charger and power adapter for Amazon Fire tablets and Amazon Kindle. The Amazon official charger is very easy to use and the power is great. It is also very durable and has the ability to charge the Kindle Fire tablet and Fire TV. Amazon has also added a USB to Lightning cable to make it even easier to plug in the charger. I have been using this charger for a few weeks now and I am very happy with it. If you are looking for an official Amazon charger, this is it!\n",
      "The Amazon power cable is made of a very strong and durable material. You can use it to power your Kindle, Fire Tablet, and other Amazon devices. There is no need to worry about it breaking or getting damaged. Also, the USB cable has an extra USB port that allows you to connect your USB devices to the charging port. So, you can charge your devices with your Amazon device. For more information about Amazon Power Cables, please visit Amazon.com. We have a review of this product here. Please visit the link below to read the review. http://www.amazon.co.uk/gp/product/B00JZHZVQM/ref=oh_aui_detailpage_o02_s00?ie=UTF8&psc=1\n",
      "This is an Amazon product. All Amazon products are sold by Amazon, Inc. (“Amazon”). Amazon is not affiliated with, sponsored by, or endorsed by the manufacturers of any of Amazon’s products. Any trademarks, service marks, product names, logos, brands, trademarks or copyrights are the property of their respective owners. No affiliation or endorsement is implied or expressed by any Amazon brand or product name.\n",
      "\n",
      "Blog post for product 'All-New Kindle E-reader - Black' in category 'tablets':\n",
      "This is an excellent product. I have been using it for about a week now and I am very happy with it. The only problem I had was that I was unable to charge it with the USB charger. When I plugged it into the wall charger, it would not charge. So I tried to plug it in to my computer, but it wouldn't charge either. After a few hours of trying to figure out what was wrong, I realized that the charger was not working. This was a very frustrating experience. If you are looking for an e-book reader that will charge your Kindle, this is not the one. However, if you want a good ereader that charges your eReader, then this one is worth the money and it is very well made. My only complaint is that it does not have a USB port. That is something that you would want to have. Otherwise, the ebook reading experience is great. Overall, a great product that is easy to use. Highly recommended. (Posted on 8/23/13)\n",
      "I have had this for over a year and have read over 100 books on it and still use it every day. There is no need to buy a new one, just plug in your device and you will be reading for hours. Also, you can use the included USB cord to recharge the device. All in all, great device! (posted on 9/1/12) I bought this ereaders for my son and he loves it! He has been reading books for years and loves the ability to read on his Kindle. He is able to do this with his tablet and eReaders. We have not had any problems with this device or the Kindle itself. Great product! I would recommend this to anyone!\n",
      "The Kindle is the best ereading device I've ever used. Not only does it have the most features, and is one of the easiest to set up, yet it's also the cheapest. And it has a lot of features that are not available on other ebooks. For\n",
      "\n",
      "Blog post for product 'Kindle Oasis E-reader with Leather Charging Cover - Black' in category 'tablets':\n",
      "I bought this for my daughter who is a big fan of the Kindle. She loves the fact that it has a leather cover and it is very comfortable to hold. The only problem is that the cover is not very durable. We have had it for about a month and I have noticed that there is some wear on it. Also, the leather is soft and not as hard as the other leather covers. Overall, I would recommend this product to anyone who wants a Kindle with a nice leather case. However, if you are looking for something that is more durable, this is the one to get. If you want a more expensive Kindle, you can get the Nook Color or the Amazon Kindle HD. Both of these are more costly than the Oasis. You can also get a NOOK Tablet for less than $100. This is an excellent value for the money. My daughter loves it and she is so happy with it!\n",
      "The Kindle OASIS is one of my favorite e-readers. There are a lot of great features that make it a great ereader. One of them is its ability to read books on a variety of devices. For example, it can read on an iPad, Kindle Fire, Nooks, and even a laptop. Another great feature is it's ability for you to use the eReader as a tablet. With the touch screen, there are no buttons to press to navigate the device. Instead, just touch the screen to select a book. When you select the book, a list of books will appear on your screen. Then, simply touch a button to start reading. Kindle also has an app that allows you read the books you have purchased. So, with the app, your books are always available. And, of course, all of this comes with an attractive price. Amazon has the best prices on eReaders and this Oasi is no exception. In fact, Amazon is offering the same price as Amazon.com for this eReading device as well. That is, $79.99\n",
      "\n"
     ]
    }
   ],
   "source": [
    "for idx, row in top_categories.iterrows():\n",
    "    print(f\"Blog post for product '{row['name_clean']}' in category '{row['label']}':\\n{row['blogpost']}\\n\")"
   ]
  },
  {
   "cell_type": "code",
   "execution_count": 60,
   "metadata": {},
   "outputs": [
    {
     "data": {
      "text/html": [
       "<div>\n",
       "<style scoped>\n",
       "    .dataframe tbody tr th:only-of-type {\n",
       "        vertical-align: middle;\n",
       "    }\n",
       "\n",
       "    .dataframe tbody tr th {\n",
       "        vertical-align: top;\n",
       "    }\n",
       "\n",
       "    .dataframe thead th {\n",
       "        text-align: right;\n",
       "    }\n",
       "</style>\n",
       "<table border=\"1\" class=\"dataframe\">\n",
       "  <thead>\n",
       "    <tr style=\"text-align: right;\">\n",
       "      <th></th>\n",
       "      <th>label</th>\n",
       "      <th>name_clean</th>\n",
       "      <th>reviews.text</th>\n",
       "      <th>nr_reviews</th>\n",
       "      <th>sentiment</th>\n",
       "      <th>cat</th>\n",
       "      <th>summary</th>\n",
       "      <th>blogpost</th>\n",
       "    </tr>\n",
       "  </thead>\n",
       "  <tbody>\n",
       "    <tr>\n",
       "      <th>1</th>\n",
       "      <td>Topic 4</td>\n",
       "      <td>Echo (White)</td>\n",
       "      <td>[Stay away from the certified refurbished Amaz...</td>\n",
       "      <td>8</td>\n",
       "      <td>1.941088</td>\n",
       "      <td>5 Star</td>\n",
       "      <td>This is one of the best purchases I have made ...</td>\n",
       "      <td>I have been using this for a few months now an...</td>\n",
       "    </tr>\n",
       "    <tr>\n",
       "      <th>0</th>\n",
       "      <td>Topic 4</td>\n",
       "      <td>Brand New Amazon Kindle Fire 16gb 7 Ips Displa...</td>\n",
       "      <td>[Having received my Fire TV today, I've been t...</td>\n",
       "      <td>6</td>\n",
       "      <td>1.920039</td>\n",
       "      <td>5 Star</td>\n",
       "      <td>The image quality (movies and games) is excell...</td>\n",
       "      <td>The Kindle has a lot of potential, especially ...</td>\n",
       "    </tr>\n",
       "    <tr>\n",
       "      <th>6</th>\n",
       "      <td>home</td>\n",
       "      <td>Amazon Fire Hd 6 Standing Protective Case(4th ...</td>\n",
       "      <td>[My family really enjoys the Amazon Echo. We h...</td>\n",
       "      <td>7</td>\n",
       "      <td>2.000000</td>\n",
       "      <td>5 Star</td>\n",
       "      <td>The Amazon Echo is a great way to control your...</td>\n",
       "      <td>The Amazon Fire HD 6 is the latest addition to...</td>\n",
       "    </tr>\n",
       "    <tr>\n",
       "      <th>13</th>\n",
       "      <td>home</td>\n",
       "      <td>Kindle Dx Leather Cover</td>\n",
       "      <td>[Purchased the Echo as a bridal shower gift. M...</td>\n",
       "      <td>9</td>\n",
       "      <td>2.000000</td>\n",
       "      <td>5 Star</td>\n",
       "      <td>The Amazon Echo has very good voice recognitio...</td>\n",
       "      <td>I have a Kindle Fire HD 8.9 and I love it. I h...</td>\n",
       "    </tr>\n",
       "    <tr>\n",
       "      <th>4</th>\n",
       "      <td>home</td>\n",
       "      <td>Amazon 9W PowerFast Official OEM USB Charger a...</td>\n",
       "      <td>[I have been using this for awhile and it defi...</td>\n",
       "      <td>36</td>\n",
       "      <td>1.972222</td>\n",
       "      <td>5 Star</td>\n",
       "      <td>Alexa is like having music on demand and so mu...</td>\n",
       "      <td>I bought this charger for the Amazon Echo and ...</td>\n",
       "    </tr>\n",
       "    <tr>\n",
       "      <th>17</th>\n",
       "      <td>tablets</td>\n",
       "      <td>Amazon - Fire 16GB (5th Gen</td>\n",
       "      <td>[I love my Kindle Voyage, however it does not ...</td>\n",
       "      <td>5</td>\n",
       "      <td>2.000000</td>\n",
       "      <td>5 Star</td>\n",
       "      <td>I love my Kindle Voyage, however it does not h...</td>\n",
       "      <td>I have been using the Amazon Fire HD for a cou...</td>\n",
       "    </tr>\n",
       "    <tr>\n",
       "      <th>20</th>\n",
       "      <td>tablets</td>\n",
       "      <td>Amazon Echo and Fire TV Power Adapter</td>\n",
       "      <td>[This is the first e-reader I've gotten and I ...</td>\n",
       "      <td>8</td>\n",
       "      <td>2.000000</td>\n",
       "      <td>5 Star</td>\n",
       "      <td>This is the first e-reader I've gotten and I L...</td>\n",
       "      <td>I've been using the Echo for a few weeks now a...</td>\n",
       "    </tr>\n",
       "    <tr>\n",
       "      <th>22</th>\n",
       "      <td>tablets</td>\n",
       "      <td>Amazon Fire Kids Edition Tablet</td>\n",
       "      <td>[The text is sharp and paper like in well lit ...</td>\n",
       "      <td>6</td>\n",
       "      <td>2.000000</td>\n",
       "      <td>5 Star</td>\n",
       "      <td>Slim and lightweight when not using a case whi...</td>\n",
       "      <td>The tablet is very light and easy to hold. It ...</td>\n",
       "    </tr>\n",
       "    <tr>\n",
       "      <th>12</th>\n",
       "      <td>home</td>\n",
       "      <td>Fire Tablet</td>\n",
       "      <td>[I initially had trouble deciding between the ...</td>\n",
       "      <td>19</td>\n",
       "      <td>1.908185</td>\n",
       "      <td>Fiasko</td>\n",
       "      <td>Kindle Paperwhite launched July 2015. It has a...</td>\n",
       "      <td>The Fire Tablet is a tablet that is designed t...</td>\n",
       "    </tr>\n",
       "    <tr>\n",
       "      <th>14</th>\n",
       "      <td>home</td>\n",
       "      <td>New Amazon Kindle Fire Hd 9w Powerfast Adapter...</td>\n",
       "      <td>[Just love it. Easy to set up and use. Tons of...</td>\n",
       "      <td>7</td>\n",
       "      <td>1.857143</td>\n",
       "      <td>Fiasko</td>\n",
       "      <td>Alexa is my new favorite device. Easy to set u...</td>\n",
       "      <td>I have a Kindle and a Fire. The Kindle is grea...</td>\n",
       "    </tr>\n",
       "    <tr>\n",
       "      <th>3</th>\n",
       "      <td>home</td>\n",
       "      <td>Amazon 5W USB Official OEM Charger and Power A...</td>\n",
       "      <td>[This was a gift from me to myself. I am very ...</td>\n",
       "      <td>7</td>\n",
       "      <td>1.830918</td>\n",
       "      <td>Fiasko</td>\n",
       "      <td>This is a great product! Our family loves the ...</td>\n",
       "      <td>Amazon has a new product that is going to be a...</td>\n",
       "    </tr>\n",
       "    <tr>\n",
       "      <th>16</th>\n",
       "      <td>tablets</td>\n",
       "      <td>All-New Kindle E-reader - Black</td>\n",
       "      <td>[I like it., A waste of money. You don't need ...</td>\n",
       "      <td>212</td>\n",
       "      <td>1.816038</td>\n",
       "      <td>Fiasko</td>\n",
       "      <td>This is a fairly standard item for use with wa...</td>\n",
       "      <td>This is an excellent product. I have been usin...</td>\n",
       "    </tr>\n",
       "    <tr>\n",
       "      <th>37</th>\n",
       "      <td>tablets</td>\n",
       "      <td>Kindle Oasis E-reader with Leather Charging Co...</td>\n",
       "      <td>[A nice size with many perks, like a crisp scr...</td>\n",
       "      <td>6</td>\n",
       "      <td>1.666667</td>\n",
       "      <td>Fiasko</td>\n",
       "      <td>I got this to replace the iPad for a child. I ...</td>\n",
       "      <td>I bought this for my daughter who is a big fan...</td>\n",
       "    </tr>\n",
       "  </tbody>\n",
       "</table>\n",
       "</div>"
      ],
      "text/plain": [
       "      label                                         name_clean  \\\n",
       "1   Topic 4                                       Echo (White)   \n",
       "0   Topic 4  Brand New Amazon Kindle Fire 16gb 7 Ips Displa...   \n",
       "6      home  Amazon Fire Hd 6 Standing Protective Case(4th ...   \n",
       "13     home                            Kindle Dx Leather Cover   \n",
       "4      home  Amazon 9W PowerFast Official OEM USB Charger a...   \n",
       "17  tablets                        Amazon - Fire 16GB (5th Gen   \n",
       "20  tablets              Amazon Echo and Fire TV Power Adapter   \n",
       "22  tablets                    Amazon Fire Kids Edition Tablet   \n",
       "12     home                                        Fire Tablet   \n",
       "14     home  New Amazon Kindle Fire Hd 9w Powerfast Adapter...   \n",
       "3      home  Amazon 5W USB Official OEM Charger and Power A...   \n",
       "16  tablets                    All-New Kindle E-reader - Black   \n",
       "37  tablets  Kindle Oasis E-reader with Leather Charging Co...   \n",
       "\n",
       "                                         reviews.text  nr_reviews  sentiment  \\\n",
       "1   [Stay away from the certified refurbished Amaz...           8   1.941088   \n",
       "0   [Having received my Fire TV today, I've been t...           6   1.920039   \n",
       "6   [My family really enjoys the Amazon Echo. We h...           7   2.000000   \n",
       "13  [Purchased the Echo as a bridal shower gift. M...           9   2.000000   \n",
       "4   [I have been using this for awhile and it defi...          36   1.972222   \n",
       "17  [I love my Kindle Voyage, however it does not ...           5   2.000000   \n",
       "20  [This is the first e-reader I've gotten and I ...           8   2.000000   \n",
       "22  [The text is sharp and paper like in well lit ...           6   2.000000   \n",
       "12  [I initially had trouble deciding between the ...          19   1.908185   \n",
       "14  [Just love it. Easy to set up and use. Tons of...           7   1.857143   \n",
       "3   [This was a gift from me to myself. I am very ...           7   1.830918   \n",
       "16  [I like it., A waste of money. You don't need ...         212   1.816038   \n",
       "37  [A nice size with many perks, like a crisp scr...           6   1.666667   \n",
       "\n",
       "       cat                                            summary  \\\n",
       "1   5 Star  This is one of the best purchases I have made ...   \n",
       "0   5 Star  The image quality (movies and games) is excell...   \n",
       "6   5 Star  The Amazon Echo is a great way to control your...   \n",
       "13  5 Star  The Amazon Echo has very good voice recognitio...   \n",
       "4   5 Star  Alexa is like having music on demand and so mu...   \n",
       "17  5 Star  I love my Kindle Voyage, however it does not h...   \n",
       "20  5 Star  This is the first e-reader I've gotten and I L...   \n",
       "22  5 Star  Slim and lightweight when not using a case whi...   \n",
       "12  Fiasko  Kindle Paperwhite launched July 2015. It has a...   \n",
       "14  Fiasko  Alexa is my new favorite device. Easy to set u...   \n",
       "3   Fiasko  This is a great product! Our family loves the ...   \n",
       "16  Fiasko  This is a fairly standard item for use with wa...   \n",
       "37  Fiasko  I got this to replace the iPad for a child. I ...   \n",
       "\n",
       "                                             blogpost  \n",
       "1   I have been using this for a few months now an...  \n",
       "0   The Kindle has a lot of potential, especially ...  \n",
       "6   The Amazon Fire HD 6 is the latest addition to...  \n",
       "13  I have a Kindle Fire HD 8.9 and I love it. I h...  \n",
       "4   I bought this charger for the Amazon Echo and ...  \n",
       "17  I have been using the Amazon Fire HD for a cou...  \n",
       "20  I've been using the Echo for a few weeks now a...  \n",
       "22  The tablet is very light and easy to hold. It ...  \n",
       "12  The Fire Tablet is a tablet that is designed t...  \n",
       "14  I have a Kindle and a Fire. The Kindle is grea...  \n",
       "3   Amazon has a new product that is going to be a...  \n",
       "16  This is an excellent product. I have been usin...  \n",
       "37  I bought this for my daughter who is a big fan...  "
      ]
     },
     "execution_count": 60,
     "metadata": {},
     "output_type": "execute_result"
    }
   ],
   "source": [
    "top_categories"
   ]
  },
  {
   "cell_type": "markdown",
   "metadata": {},
   "source": [
    "#### export results"
   ]
  },
  {
   "cell_type": "code",
   "execution_count": 62,
   "metadata": {},
   "outputs": [
    {
     "name": "stdout",
     "output_type": "stream",
     "text": [
      "Data successfully saved to the 'blogposts' table with 'id' in blogposts.db.\n"
     ]
    }
   ],
   "source": [
    "import sqlite3\n",
    "\n",
    "import sqlite3\n",
    "\n",
    "# Connect to the SQLite database\n",
    "db_path = \"flask_project/data/blogposts.db\"\n",
    "conn = sqlite3.connect(db_path)\n",
    "cursor = conn.cursor()\n",
    "\n",
    "# Drop the 'blogposts' table if it exists\n",
    "cursor.execute('''\n",
    "DROP TABLE IF EXISTS blogposts\n",
    "''')\n",
    "\n",
    "# Create the 'blogposts' table with columns based on the DataFrame, including 'id' as the primary key\n",
    "cursor.execute('''\n",
    "CREATE TABLE blogposts (\n",
    "    id INTEGER PRIMARY KEY AUTOINCREMENT,\n",
    "    label TEXT,\n",
    "    name_clean TEXT,\n",
    "    reviews_text TEXT,\n",
    "    nr_reviews INTEGER,\n",
    "    sentiment REAL,\n",
    "    cat TEXT,\n",
    "    summary TEXT,\n",
    "    blogpost TEXT\n",
    ")\n",
    "''')\n",
    "\n",
    "# Commit the table creation\n",
    "conn.commit()\n",
    "\n",
    "# Insert data from the DataFrame into the 'blogposts' table\n",
    "for idx, row in top_categories.iterrows():\n",
    "    cursor.execute('''\n",
    "        INSERT INTO blogposts (label, name_clean, reviews_text, nr_reviews, sentiment, cat, summary, blogpost)\n",
    "        VALUES (?, ?, ?, ?, ?, ?, ?, ?)\n",
    "    ''', (row['label'], row['name_clean'], ', '.join(row['reviews.text']), row['nr_reviews'], row['sentiment'], row['cat'], row['summary'], row['blogpost']))\n",
    "\n",
    "# Commit the inserts\n",
    "conn.commit()\n",
    "\n",
    "# Close the connection\n",
    "conn.close()\n",
    "\n",
    "print(\"Data successfully saved to the 'blogposts' table with 'id' in blogposts.db.\")"
   ]
  },
  {
   "cell_type": "code",
   "execution_count": null,
   "metadata": {},
   "outputs": [],
   "source": []
  }
 ],
 "metadata": {
  "kernelspec": {
   "display_name": "venv",
   "language": "python",
   "name": "python3"
  },
  "language_info": {
   "codemirror_mode": {
    "name": "ipython",
    "version": 3
   },
   "file_extension": ".py",
   "mimetype": "text/x-python",
   "name": "python",
   "nbconvert_exporter": "python",
   "pygments_lexer": "ipython3",
   "version": "3.12.7"
  }
 },
 "nbformat": 4,
 "nbformat_minor": 2
}
